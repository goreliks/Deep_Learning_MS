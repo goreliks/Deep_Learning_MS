{
 "cells": [
  {
   "cell_type": "markdown",
   "metadata": {
    "id": "E14eMztWU6Zj"
   },
   "source": [
    "$$\n",
    "\\newcommand{\\mat}[1]{\\boldsymbol {#1}}\n",
    "\\newcommand{\\mattr}[1]{\\boldsymbol {#1}^\\top}\n",
    "\\newcommand{\\matinv}[1]{\\boldsymbol {#1}^{-1}}\n",
    "\\newcommand{\\vec}[1]{\\boldsymbol {#1}}\n",
    "\\newcommand{\\vectr}[1]{\\boldsymbol {#1}^\\top}\n",
    "\\newcommand{\\rvar}[1]{\\mathrm {#1}}\n",
    "\\newcommand{\\rvec}[1]{\\boldsymbol{\\mathrm{#1}}}\n",
    "\\newcommand{\\diag}{\\mathop{\\mathrm {diag}}}\n",
    "\\newcommand{\\set}[1]{\\mathbb {#1}}\n",
    "\\newcommand{\\norm}[1]{\\left\\lVert#1\\right\\rVert}\n",
    "\\newcommand{\\pderiv}[2]{\\frac{\\partial #1}{\\partial #2}}\n",
    "\\newcommand{\\bb}[1]{\\boldsymbol{#1}}\n",
    "$$\n",
    "# Part 1: Sequence Models\n",
    "<a id=part1></a>"
   ]
  },
  {
   "cell_type": "markdown",
   "metadata": {
    "id": "SNvbIYEqU6Zn"
   },
   "source": [
    "In this part we will learn about working with text sequences using recurrent neural networks.\n",
    "We'll go from a raw text file all the way to a fully trained GRU-RNN model and generate works of art!"
   ]
  },
  {
   "cell_type": "code",
   "execution_count": 27,
   "metadata": {
    "ExecuteTime": {
     "end_time": "2023-07-13T11:02:18.691521Z",
     "start_time": "2023-07-13T11:02:17.472180Z"
    },
    "colab": {
     "base_uri": "https://localhost:8080/"
    },
    "id": "9J2eqOG6U6Zo",
    "executionInfo": {
     "status": "ok",
     "timestamp": 1689260960138,
     "user_tz": -180,
     "elapsed": 291,
     "user": {
      "displayName": "Alexander Gorelik",
      "userId": "06754552765501381377"
     }
    },
    "outputId": "fba68042-9c93-4507-c77a-81b3c86add45"
   },
   "outputs": [
    {
     "output_type": "stream",
     "name": "stdout",
     "text": [
      "The autoreload extension is already loaded. To reload it, use:\n",
      "  %reload_ext autoreload\n"
     ]
    }
   ],
   "source": [
    "import unittest\n",
    "import os\n",
    "import sys\n",
    "import pathlib\n",
    "import urllib\n",
    "import shutil\n",
    "import re\n",
    "\n",
    "import numpy as np\n",
    "import torch\n",
    "import matplotlib.pyplot as plt\n",
    "\n",
    "%load_ext autoreload\n",
    "%autoreload 2"
   ]
  },
  {
   "cell_type": "code",
   "execution_count": 6,
   "metadata": {
    "ExecuteTime": {
     "end_time": "2023-07-13T11:02:21.929917Z",
     "start_time": "2023-07-13T11:02:21.458486Z"
    },
    "colab": {
     "base_uri": "https://localhost:8080/"
    },
    "id": "wflx1pVbU6Zp",
    "executionInfo": {
     "status": "ok",
     "timestamp": 1689253194636,
     "user_tz": -180,
     "elapsed": 309,
     "user": {
      "displayName": "Alexander Gorelik",
      "userId": "06754552765501381377"
     }
    },
    "outputId": "8b1e702c-4133-4220-fc5b-af85e88c6753"
   },
   "outputs": [
    {
     "output_type": "stream",
     "name": "stdout",
     "text": [
      "Using device: cuda\n"
     ]
    }
   ],
   "source": [
    "test = unittest.TestCase()\n",
    "plt.rcParams.update({'font.size': 12})\n",
    "device = torch.device('cuda' if torch.cuda.is_available() else 'cpu')\n",
    "print('Using device:', device)"
   ]
  },
  {
   "cell_type": "markdown",
   "metadata": {
    "id": "xqq9KFBlU6Zp"
   },
   "source": [
    "## Text generation with a char-level RNN\n",
    "<a id=part1_1></a>"
   ]
  },
  {
   "cell_type": "markdown",
   "metadata": {
    "id": "6zDKYsIgU6Zp"
   },
   "source": [
    "### Obtaining the corpus\n",
    "<a id=part1_2></a>"
   ]
  },
  {
   "cell_type": "markdown",
   "metadata": {
    "id": "sv74UOKlU6Zp"
   },
   "source": [
    "Let's begin by downloading a corpus containing all the works of William Shakespeare.\n",
    "Since he was very prolific, this corpus is fairly large and will provide us with enough data for\n",
    "obtaining impressive results."
   ]
  },
  {
   "cell_type": "code",
   "execution_count": 7,
   "metadata": {
    "ExecuteTime": {
     "end_time": "2023-07-13T11:02:25.171863Z",
     "start_time": "2023-07-13T11:02:25.135467Z"
    },
    "colab": {
     "base_uri": "https://localhost:8080/"
    },
    "id": "hiJ7MiAwU6Zp",
    "executionInfo": {
     "status": "ok",
     "timestamp": 1689253201975,
     "user_tz": -180,
     "elapsed": 1611,
     "user": {
      "displayName": "Alexander Gorelik",
      "userId": "06754552765501381377"
     }
    },
    "outputId": "d8618ad4-368c-4ff6-cbfd-e6f9f9e3ef89"
   },
   "outputs": [
    {
     "output_type": "stream",
     "name": "stdout",
     "text": [
      "Downloading https://github.com/cedricdeboom/character-level-rnn-datasets/raw/master/datasets/shakespeare.txt...\n",
      "Saved to /root/.pytorch-datasets/shakespeare.txt.\n"
     ]
    }
   ],
   "source": [
    "CORPUS_URL = 'https://github.com/cedricdeboom/character-level-rnn-datasets/raw/master/datasets/shakespeare.txt'\n",
    "DATA_DIR = pathlib.Path.home().joinpath('.pytorch-datasets')\n",
    "\n",
    "def download_corpus(out_path=DATA_DIR, url=CORPUS_URL, force=False):\n",
    "    pathlib.Path(out_path).mkdir(exist_ok=True)\n",
    "    out_filename = os.path.join(out_path, os.path.basename(url))\n",
    "\n",
    "    if os.path.isfile(out_filename) and not force:\n",
    "        print(f'Corpus file {out_filename} exists, skipping download.')\n",
    "    else:\n",
    "        print(f'Downloading {url}...')\n",
    "        with urllib.request.urlopen(url) as response, open(out_filename, 'wb') as out_file:\n",
    "            shutil.copyfileobj(response, out_file)\n",
    "        print(f'Saved to {out_filename}.')\n",
    "    return out_filename\n",
    "\n",
    "corpus_path = download_corpus()"
   ]
  },
  {
   "cell_type": "markdown",
   "metadata": {
    "id": "8RxWwwx-U6Zq"
   },
   "source": [
    "Load the text into memory and print a snippet:"
   ]
  },
  {
   "cell_type": "code",
   "execution_count": 8,
   "metadata": {
    "ExecuteTime": {
     "end_time": "2023-07-13T11:02:31.079633Z",
     "start_time": "2023-07-13T11:02:31.046299Z"
    },
    "colab": {
     "base_uri": "https://localhost:8080/"
    },
    "id": "ZIeEX2B4U6Zq",
    "executionInfo": {
     "status": "ok",
     "timestamp": 1689253205276,
     "user_tz": -180,
     "elapsed": 265,
     "user": {
      "displayName": "Alexander Gorelik",
      "userId": "06754552765501381377"
     }
    },
    "outputId": "7c1e0b36-4519-4bf3-eabb-ec645eb31f2d"
   },
   "outputs": [
    {
     "output_type": "stream",
     "name": "stdout",
     "text": [
      "Corpus length: 6347703 chars\n",
      "ALLS WELL THAT ENDS WELL\n",
      "\n",
      "by William Shakespeare\n",
      "\n",
      "Dramatis Personae\n",
      "\n",
      "  KING OF FRANCE\n",
      "  THE DUKE OF FLORENCE\n",
      "  BERTRAM, Count of Rousillon\n",
      "  LAFEU, an old lord\n",
      "  PAROLLES, a follower of Bertram\n",
      "  TWO FRENCH LORDS, serving with Bertram\n",
      "\n",
      "  STEWARD, Servant to the Countess of Rousillon\n",
      "  LAVACHE, a clown and Servant to the Countess of Rousillon\n",
      "  A PAGE, Servant to the Countess of Rousillon\n",
      "\n",
      "  COUNTESS OF ROUSILLON, mother to Bertram\n",
      "  HELENA, a gentlewoman protected by the Countess\n",
      "  A WIDOW OF FLORENCE.\n",
      "  DIANA, daughter to the Widow\n",
      "\n",
      "  VIOLENTA, neighbour and friend to the Widow\n",
      "  MARIANA, neighbour and friend to the Widow\n",
      "\n",
      "  Lords, Officers, Soldiers, etc., French and Florentine  \n",
      "\n",
      "SCENE:\n",
      "Rousillon; Paris; Florence; Marseilles\n",
      "\n",
      "ACT I. SCENE 1.\n",
      "Rousillon. The COUNT'S palace\n",
      "\n",
      "Enter BERTRAM, the COUNTESS OF ROUSILLON, HELENA, and LAFEU, all in black\n",
      "\n",
      "  COUNTESS. In delivering my son from me, I bury a second husband.\n",
      "  BERTRAM. And I in going, madam, weep o'er my father's death anew;\n",
      "    but I must attend his Majesty's command, to whom I am now in\n",
      "    ward, evermore in subjection.\n",
      "  LAFEU. You shall find of the King a husband, madam; you, sir, a\n",
      "    father. He that so generally is at all times good must of\n",
      "    \n"
     ]
    }
   ],
   "source": [
    "with open(corpus_path, 'r', encoding='utf-8') as f:\n",
    "    corpus = f.read()\n",
    "\n",
    "print(f'Corpus length: {len(corpus)} chars')\n",
    "print(corpus[7:1234])"
   ]
  },
  {
   "cell_type": "markdown",
   "metadata": {
    "id": "B9zYj-LeU6Zq"
   },
   "source": [
    "### Data Preprocessing\n",
    "<a id=part1_3></a>"
   ]
  },
  {
   "cell_type": "markdown",
   "metadata": {
    "id": "u6gGrnukU6Zr"
   },
   "source": [
    "The first thing we'll need is to map from each unique character in the corpus to an index that will represent it in our learning process.\n",
    "\n",
    "**TODO**: Implement the `char_maps()` function in the `hw3/charnn.py` module."
   ]
  },
  {
   "cell_type": "code",
   "execution_count": 9,
   "metadata": {
    "ExecuteTime": {
     "end_time": "2023-07-13T11:02:54.091608Z",
     "start_time": "2023-07-13T11:02:53.994990Z"
    },
    "colab": {
     "base_uri": "https://localhost:8080/"
    },
    "id": "SCsQaKveU6Zr",
    "executionInfo": {
     "status": "ok",
     "timestamp": 1689253213785,
     "user_tz": -180,
     "elapsed": 907,
     "user": {
      "displayName": "Alexander Gorelik",
      "userId": "06754552765501381377"
     }
    },
    "outputId": "64341cae-0776-45e9-ceac-9575c32f7e5d"
   },
   "outputs": [
    {
     "output_type": "stream",
     "name": "stdout",
     "text": [
      "{'\\n': 0, ' ': 1, '!': 2, '\"': 3, '$': 4, '&': 5, \"'\": 6, '(': 7, ')': 8, ',': 9, '-': 10, '.': 11, '0': 12, '1': 13, '2': 14, '3': 15, '4': 16, '5': 17, '6': 18, '7': 19, '8': 20, '9': 21, ':': 22, ';': 23, '<': 24, '?': 25, 'A': 26, 'B': 27, 'C': 28, 'D': 29, 'E': 30, 'F': 31, 'G': 32, 'H': 33, 'I': 34, 'J': 35, 'K': 36, 'L': 37, 'M': 38, 'N': 39, 'O': 40, 'P': 41, 'Q': 42, 'R': 43, 'S': 44, 'T': 45, 'U': 46, 'V': 47, 'W': 48, 'X': 49, 'Y': 50, 'Z': 51, '[': 52, ']': 53, '_': 54, 'a': 55, 'b': 56, 'c': 57, 'd': 58, 'e': 59, 'f': 60, 'g': 61, 'h': 62, 'i': 63, 'j': 64, 'k': 65, 'l': 66, 'm': 67, 'n': 68, 'o': 69, 'p': 70, 'q': 71, 'r': 72, 's': 73, 't': 74, 'u': 75, 'v': 76, 'w': 77, 'x': 78, 'y': 79, 'z': 80, '}': 81, '\\ufeff': 82}\n"
     ]
    }
   ],
   "source": [
    "import hw3.charnn as charnn\n",
    "\n",
    "char_to_idx, idx_to_char = charnn.char_maps(corpus)\n",
    "print(char_to_idx)\n",
    "\n",
    "test.assertEqual(len(char_to_idx), len(idx_to_char))\n",
    "test.assertSequenceEqual(list(char_to_idx.keys()), list(idx_to_char.values()))\n",
    "test.assertSequenceEqual(list(char_to_idx.values()), list(idx_to_char.keys()))"
   ]
  },
  {
   "cell_type": "markdown",
   "metadata": {
    "id": "Ewpgmc2rU6Zs"
   },
   "source": [
    "Seems we have some strange characters in the corpus that are very rare and are probably due to mistakes.\n",
    "To reduce the length of each tensor we'll need to later represent our chars, it's best to remove them.\n",
    "\n",
    "**TODO**: Implement the `remove_chars()` function in the `hw3/charnn.py` module."
   ]
  },
  {
   "cell_type": "code",
   "execution_count": 10,
   "metadata": {
    "ExecuteTime": {
     "end_time": "2023-07-13T11:04:42.965917Z",
     "start_time": "2023-07-13T11:04:42.788381Z"
    },
    "colab": {
     "base_uri": "https://localhost:8080/"
    },
    "id": "ozQ7KC5lU6Zs",
    "executionInfo": {
     "status": "ok",
     "timestamp": 1689253218956,
     "user_tz": -180,
     "elapsed": 431,
     "user": {
      "displayName": "Alexander Gorelik",
      "userId": "06754552765501381377"
     }
    },
    "outputId": "c54f1f07-8d5d-44a4-d99e-5e4bf40b5741"
   },
   "outputs": [
    {
     "output_type": "stream",
     "name": "stdout",
     "text": [
      "Removed 34 chars\n"
     ]
    }
   ],
   "source": [
    "corpus, n_removed = charnn.remove_chars(corpus, ['}','$','_','<','\\ufeff'])\n",
    "print(f'Removed {n_removed} chars')\n",
    "\n",
    "# After removing the chars, re-create the mappings\n",
    "char_to_idx, idx_to_char = charnn.char_maps(corpus)"
   ]
  },
  {
   "cell_type": "markdown",
   "metadata": {
    "id": "T5BOlleLU6Zs"
   },
   "source": [
    "The next thing we need is an **embedding** of the chracters.\n",
    "An embedding is a representation of each token from the sequence as a tensor.\n",
    "For a char-level RNN, our tokens will be chars and we can thus use the simplest possible embedding: encode each char as a **one-hot** tensor. In other words, each char will be represented\n",
    "as a tensor whos length is the total number of unique chars (`V`) which contains all zeros except at the index\n",
    "corresponding to that specific char.\n",
    "\n",
    "**TODO**: Implement the functions `chars_to_onehot()` and `onehot_to_chars()` in the `hw3/charnn.py` module."
   ]
  },
  {
   "cell_type": "code",
   "execution_count": 11,
   "metadata": {
    "ExecuteTime": {
     "end_time": "2023-07-13T11:08:32.503928Z",
     "start_time": "2023-07-13T11:08:32.290995Z"
    },
    "colab": {
     "base_uri": "https://localhost:8080/"
    },
    "id": "IoyEP61jU6Zs",
    "executionInfo": {
     "status": "ok",
     "timestamp": 1689253221363,
     "user_tz": -180,
     "elapsed": 311,
     "user": {
      "displayName": "Alexander Gorelik",
      "userId": "06754552765501381377"
     }
    },
    "outputId": "f04e7e32-a188-44bf-bc77-11e72f6e8e2c"
   },
   "outputs": [
    {
     "output_type": "stream",
     "name": "stdout",
     "text": [
      "brine a maiden can season her praise in.\n",
      "   \n",
      "tensor([[0, 0, 0, 0, 0, 0, 0, 0, 0, 0, 0, 0, 0, 0, 0, 0, 0, 0, 0, 0, 0, 0, 0, 0,\n",
      "         0, 0, 0, 0, 0, 0, 0, 0, 0, 0, 0, 0, 0, 0, 0, 0, 0, 0, 0, 0, 0, 0, 0, 0,\n",
      "         0, 0, 0, 0, 0, 1, 0, 0, 0, 0, 0, 0, 0, 0, 0, 0, 0, 0, 0, 0, 0, 0, 0, 0,\n",
      "         0, 0, 0, 0, 0, 0],\n",
      "        [0, 0, 0, 0, 0, 0, 0, 0, 0, 0, 0, 0, 0, 0, 0, 0, 0, 0, 0, 0, 0, 0, 0, 0,\n",
      "         0, 0, 0, 0, 0, 0, 0, 0, 0, 0, 0, 0, 0, 0, 0, 0, 0, 0, 0, 0, 0, 0, 0, 0,\n",
      "         0, 0, 0, 0, 0, 0, 0, 0, 0, 0, 0, 0, 0, 0, 0, 0, 0, 0, 0, 0, 0, 1, 0, 0,\n",
      "         0, 0, 0, 0, 0, 0],\n",
      "        [0, 0, 0, 0, 0, 0, 0, 0, 0, 0, 0, 0, 0, 0, 0, 0, 0, 0, 0, 0, 0, 0, 0, 0,\n",
      "         0, 0, 0, 0, 0, 0, 0, 0, 0, 0, 0, 0, 0, 0, 0, 0, 0, 0, 0, 0, 0, 0, 0, 0,\n",
      "         0, 0, 0, 0, 0, 0, 0, 0, 0, 0, 0, 0, 1, 0, 0, 0, 0, 0, 0, 0, 0, 0, 0, 0,\n",
      "         0, 0, 0, 0, 0, 0]], dtype=torch.int8)\n"
     ]
    }
   ],
   "source": [
    "# Wrap the actual embedding functions for calling convenience\n",
    "def embed(text):\n",
    "    return charnn.chars_to_onehot(text, char_to_idx)\n",
    "\n",
    "def unembed(embedding):\n",
    "    return charnn.onehot_to_chars(embedding, idx_to_char)\n",
    "\n",
    "text_snippet = corpus[3104:3148]\n",
    "print(text_snippet)\n",
    "print(embed(text_snippet[0:3]))\n",
    "\n",
    "test.assertEqual(text_snippet, unembed(embed(text_snippet)))\n",
    "test.assertEqual(embed(text_snippet).dtype, torch.int8)"
   ]
  },
  {
   "cell_type": "markdown",
   "metadata": {
    "id": "dH3-5Dc9U6Zu"
   },
   "source": [
    "### Dataset Creation\n",
    "<a id=part1_4></a>"
   ]
  },
  {
   "cell_type": "markdown",
   "metadata": {
    "id": "mdHcA6vJU6Zu"
   },
   "source": [
    "We wish to train our model to generate text by constantly predicting what the next char should be based on the past.\n",
    "To that end we'll need to train our recurrent network in a way similar to a classification task. At each timestep, we input a char and set the expected output (label) to be the next char in the original sequence.\n",
    "\n",
    "We will split our corpus into shorter sequences of length `S` chars (see question below).\n",
    "Each **sample** we provide our model with will therefore be a tensor of shape `(S,V)` where `V` is the embedding dimension. Our model will operate sequentially on each char in the sequence.\n",
    "For each sample, we'll also need a **label**. This is simply another sequence, shifted by one char so that the label of each char is the next char in the corpus."
   ]
  },
  {
   "cell_type": "markdown",
   "metadata": {
    "id": "NS52ODx9U6Zu"
   },
   "source": [
    "**TODO**: Implement the `chars_to_labelled_samples()` function in the `hw3/charnn.py` module."
   ]
  },
  {
   "cell_type": "code",
   "execution_count": 12,
   "metadata": {
    "ExecuteTime": {
     "end_time": "2023-07-13T11:18:35.857795Z",
     "start_time": "2023-07-13T11:18:18.794800Z"
    },
    "colab": {
     "base_uri": "https://localhost:8080/"
    },
    "id": "ItkMnj-XU6Zu",
    "executionInfo": {
     "status": "ok",
     "timestamp": 1689253275073,
     "user_tz": -180,
     "elapsed": 49965,
     "user": {
      "displayName": "Alexander Gorelik",
      "userId": "06754552765501381377"
     }
    },
    "outputId": "e7c5387d-b0f7-4d3a-98ce-017bc69d4114"
   },
   "outputs": [
    {
     "output_type": "stream",
     "name": "stdout",
     "text": [
      "samples shape: torch.Size([99182, 64, 78])\n",
      "labels shape: torch.Size([99182, 64])\n"
     ]
    }
   ],
   "source": [
    "# Create dataset of sequences\n",
    "seq_len = 64\n",
    "vocab_len = len(char_to_idx)\n",
    "\n",
    "# Create labelled samples\n",
    "samples, labels = charnn.chars_to_labelled_samples(corpus, char_to_idx, seq_len, device)\n",
    "print(f'samples shape: {samples.shape}')\n",
    "print(f'labels shape: {labels.shape}')\n",
    "\n",
    "# Test shapes\n",
    "num_samples = (len(corpus) - 1) // seq_len\n",
    "test.assertEqual(samples.shape, (num_samples, seq_len, vocab_len))\n",
    "test.assertEqual(labels.shape, (num_samples, seq_len))\n",
    "\n",
    "# Test content\n",
    "for _ in range(1000):\n",
    "    # random sample\n",
    "    i = np.random.randint(num_samples, size=(1,))[0]\n",
    "    # Compare to corpus\n",
    "    test.assertEqual(unembed(samples[i]), corpus[i*seq_len:(i+1)*seq_len], msg=f\"content mismatch in sample {i}\")\n",
    "    # Compare to labels\n",
    "    sample_text = unembed(samples[i])\n",
    "    label_text = str.join('', [idx_to_char[j.item()] for j in labels[i]])\n",
    "    test.assertEqual(sample_text[1:], label_text[0:-1], msg=f\"label mismatch in sample {i}\")"
   ]
  },
  {
   "cell_type": "markdown",
   "metadata": {
    "id": "R1XKeMFOU6Zu"
   },
   "source": [
    "Let's print a few consecutive samples. You should see that the text continues between them."
   ]
  },
  {
   "cell_type": "code",
   "execution_count": 13,
   "metadata": {
    "ExecuteTime": {
     "end_time": "2023-07-13T11:18:52.815329Z",
     "start_time": "2023-07-13T11:18:52.709767Z"
    },
    "colab": {
     "base_uri": "https://localhost:8080/"
    },
    "id": "aqpQLd4-U6Zv",
    "executionInfo": {
     "status": "ok",
     "timestamp": 1689253313491,
     "user_tz": -180,
     "elapsed": 323,
     "user": {
      "displayName": "Alexander Gorelik",
      "userId": "06754552765501381377"
     }
    },
    "outputId": "87b0eb9f-16df-4898-e40f-6e6e7716a828"
   },
   "outputs": [
    {
     "output_type": "stream",
     "name": "stdout",
     "text": [
      "sample [48723]:\n",
      "\tMy mistress will before the break of day Be here at Be\n",
      "sample [48724]:\n",
      "\tlmont; she doth stray about By holy crosses, where she kneel\n",
      "sample [48725]:\n",
      "\ts and prays For happy wedlock hours. LORENZO. Who comes wi\n",
      "sample [48726]:\n",
      "\tth her? STEPHANO. None but a holy hermit and her maid. I p\n",
      "sample [48727]:\n",
      "\tray you, is my master yet return'd? LORENZO. He is not, nor we\n"
     ]
    }
   ],
   "source": [
    "import re\n",
    "import random\n",
    "\n",
    "i = random.randrange(num_samples-5)\n",
    "for i in range(i, i+5):\n",
    "    test.assertEqual(len(samples[i]), seq_len)\n",
    "    s = re.sub(r'\\s+', ' ', unembed(samples[i])).strip()\n",
    "    print(f'sample [{i}]:\\n\\t{s}')"
   ]
  },
  {
   "cell_type": "markdown",
   "metadata": {
    "id": "zHNtWCXOU6Zv"
   },
   "source": [
    "As usual, instead of feeding one sample at a time into our model's forward we'll work with **batches** of samples. This means that at every timestep, our model will operate on a batch of chars that are from **different sequences**.\n",
    "Effectively this will allow us to parallelize training our model by dong matrix-matrix multiplications\n",
    "instead of matrix-vector during the forward pass."
   ]
  },
  {
   "cell_type": "markdown",
   "metadata": {
    "id": "XbqHee6RU6Zv"
   },
   "source": [
    "An important nuance is that we need the batches to be **contiguous**, i.e. sample $k$ in batch $j$ should continue sample $k$ from batch $j-1$.\n",
    "The following figure illustrates this:\n",
    "\n",
    "<img src=\"imgs/rnn-batching.png\"/>\n",
    "\n",
    "If we naïvely take consecutive samples into batches, e.g. `[0,1,...,B-1]`, `[B,B+1,...,2B-1]` and so on, we won't have contiguous\n",
    "sequences at the same index between adjacent batches.\n",
    "\n",
    "To accomplish this we need to tell our `DataLoader` which samples to combine together into one batch.\n",
    "We do this by implementing a custom PyTorch `Sampler`, and providing it to our `DataLoader`."
   ]
  },
  {
   "cell_type": "markdown",
   "metadata": {
    "id": "qoBp7w7iU6Zv"
   },
   "source": [
    "**TODO**: Implement the `SequenceBatchSampler` class in the `hw3/charnn.py` module."
   ]
  },
  {
   "cell_type": "code",
   "execution_count": 14,
   "metadata": {
    "ExecuteTime": {
     "end_time": "2023-07-13T11:32:52.752259Z",
     "start_time": "2023-07-13T11:32:52.543081Z"
    },
    "colab": {
     "base_uri": "https://localhost:8080/"
    },
    "id": "K5CNdPKOU6Zv",
    "executionInfo": {
     "status": "ok",
     "timestamp": 1689253332947,
     "user_tz": -180,
     "elapsed": 349,
     "user": {
      "displayName": "Alexander Gorelik",
      "userId": "06754552765501381377"
     }
    },
    "outputId": "d9aea6e4-066d-48c4-fe28-dc5d96311172"
   },
   "outputs": [
    {
     "output_type": "stream",
     "name": "stdout",
     "text": [
      "sampler_idx =\n",
      " [0, 3, 6, 9, 12, 15, 18, 21, 24, 27, 1, 4, 7, 10, 13, 16, 19, 22, 25, 28, 2, 5, 8, 11, 14, 17, 20, 23, 26, 29]\n"
     ]
    }
   ],
   "source": [
    "from hw3.charnn import SequenceBatchSampler\n",
    "\n",
    "sampler = SequenceBatchSampler(dataset=range(32), batch_size=10)\n",
    "sampler_idx = list(sampler)\n",
    "print('sampler_idx =\\n', sampler_idx)\n",
    "\n",
    "# Test the Sampler\n",
    "test.assertEqual(len(sampler_idx), 30)\n",
    "batch_idx = np.array(sampler_idx).reshape(-1, 10)\n",
    "for k in range(10):\n",
    "    test.assertEqual(np.diff(batch_idx[:, k], n=2).item(), 0)"
   ]
  },
  {
   "cell_type": "markdown",
   "metadata": {
    "id": "k1lKLTAzU6Zw"
   },
   "source": [
    "Even though we're working with sequences, we can still use the standard PyTorch `Dataset`/`DataLoader` combo.\n",
    "For the dataset we can use a built-in class, `TensorDataset` to return tuples of `(sample, label)`\n",
    "from the `samples` and `labels` tensors we created above.\n",
    "The `DataLoader` will be provided with our custom `Sampler` so that it generates appropriate batches."
   ]
  },
  {
   "cell_type": "code",
   "execution_count": 15,
   "metadata": {
    "ExecuteTime": {
     "end_time": "2023-07-13T11:33:03.499396Z",
     "start_time": "2023-07-13T11:33:03.457078Z"
    },
    "id": "6FZ49RadU6Zw",
    "executionInfo": {
     "status": "ok",
     "timestamp": 1689253336825,
     "user_tz": -180,
     "elapsed": 421,
     "user": {
      "displayName": "Alexander Gorelik",
      "userId": "06754552765501381377"
     }
    }
   },
   "outputs": [],
   "source": [
    "import torch.utils.data\n",
    "\n",
    "# Create DataLoader returning batches of samples.\n",
    "batch_size = 32\n",
    "\n",
    "ds_corpus = torch.utils.data.TensorDataset(samples, labels)\n",
    "sampler_corpus = SequenceBatchSampler(ds_corpus, batch_size)\n",
    "dl_corpus = torch.utils.data.DataLoader(ds_corpus, batch_size=batch_size, sampler=sampler_corpus, shuffle=False)"
   ]
  },
  {
   "cell_type": "markdown",
   "metadata": {
    "id": "LgUKXaviU6Zw"
   },
   "source": [
    "Let's see what that gives us:"
   ]
  },
  {
   "cell_type": "code",
   "execution_count": 16,
   "metadata": {
    "ExecuteTime": {
     "end_time": "2023-07-13T11:33:06.753934Z",
     "start_time": "2023-07-13T11:33:06.699020Z"
    },
    "colab": {
     "base_uri": "https://localhost:8080/"
    },
    "id": "pGdGEsmlU6Zw",
    "executionInfo": {
     "status": "ok",
     "timestamp": 1689253338633,
     "user_tz": -180,
     "elapsed": 318,
     "user": {
      "displayName": "Alexander Gorelik",
      "userId": "06754552765501381377"
     }
    },
    "outputId": "37707190-a948-4802-cb26-b002db33c229"
   },
   "outputs": [
    {
     "output_type": "stream",
     "name": "stdout",
     "text": [
      "num batches: 3100\n",
      "shape of a batch of samples: torch.Size([32, 64, 78])\n",
      "shape of a batch of labels: torch.Size([32, 64])\n"
     ]
    }
   ],
   "source": [
    "print(f'num batches: {len(dl_corpus)}')\n",
    "\n",
    "x0, y0 = next(iter(dl_corpus))\n",
    "print(f'shape of a batch of samples: {x0.shape}')\n",
    "print(f'shape of a batch of labels: {y0.shape}')"
   ]
  },
  {
   "cell_type": "markdown",
   "metadata": {
    "id": "YkfJlid-U6Zw"
   },
   "source": [
    "Now lets look at the same sample index from multiple batches taken from our corpus."
   ]
  },
  {
   "cell_type": "code",
   "execution_count": 17,
   "metadata": {
    "ExecuteTime": {
     "end_time": "2023-07-13T11:33:30.482223Z",
     "start_time": "2023-07-13T11:33:30.428549Z"
    },
    "colab": {
     "base_uri": "https://localhost:8080/"
    },
    "id": "qSz5dYa2U6Zx",
    "executionInfo": {
     "status": "ok",
     "timestamp": 1689253342267,
     "user_tz": -180,
     "elapsed": 270,
     "user": {
      "displayName": "Alexander Gorelik",
      "userId": "06754552765501381377"
     }
    },
    "outputId": "67b30b03-8ac6-490f-bd16-151d6a436d47"
   },
   "outputs": [
    {
     "output_type": "stream",
     "name": "stdout",
     "text": [
      "=== batch 0, sample 15 (torch.Size([64, 78])): ===\n",
      "\td razure of oblivion. Give me your hand. And let the subject\n",
      "=== batch 1, sample 15 (torch.Size([64, 78])): ===\n",
      "\tsee, to make them know That outward courtesies would fain p\n",
      "=== batch 2, sample 15 (torch.Size([64, 78])): ===\n",
      "\troclaim Favours that keep within. Come, Escalus, You m\n",
      "=== batch 3, sample 15 (torch.Size([64, 78])): ===\n",
      "\tust walk by us on our other hand, And good supporters are yo\n",
      "=== batch 4, sample 15 (torch.Size([64, 78])): ===\n",
      "\tu. Enter FRIAR PETER and ISABELLA PETER. No\n"
     ]
    }
   ],
   "source": [
    "# Check that sentences in in same index of different batches complete each other.\n",
    "k = random.randrange(batch_size)\n",
    "for j, (X, y) in enumerate(dl_corpus,):\n",
    "    print(f'=== batch {j}, sample {k} ({X[k].shape}): ===')\n",
    "    s = re.sub(r'\\s+', ' ', unembed(X[k])).strip()\n",
    "    print(f'\\t{s}')\n",
    "    if j==4: break"
   ]
  },
  {
   "cell_type": "markdown",
   "metadata": {
    "id": "XCkxlXqDU6Zx"
   },
   "source": [
    "### Model Implementation\n",
    "<a id=part1_5></a>"
   ]
  },
  {
   "cell_type": "markdown",
   "metadata": {
    "id": "R1bIl0XGU6Z0"
   },
   "source": [
    "Finally, our data set is ready so we can focus on our model.\n",
    "\n",
    "We'll implement here is a multilayer gated recurrent unit (GRU) model, with dropout.\n",
    "This model is a type of RNN which performs similar to the well-known LSTM model,\n",
    "but it's somewhat easier to train because it has less parameters.\n",
    "We'll modify the regular GRU slightly by applying dropout to\n",
    "the hidden states passed between layers of the model.\n",
    "\n",
    "The model accepts an input $\\mat{X}\\in\\set{R}^{S\\times V}$ containing a sequence of embedded chars.\n",
    "It returns an output $\\mat{Y}\\in\\set{R}^{S\\times V}$ of predictions for the next char and the final hidden state\n",
    "$\\mat{H}\\in\\set{R}^{L\\times H}$. Here $S$ is the sequence length, $V$ is the vocabulary size (number of unique chars), $L$ is the number of layers in the model and $H$ is the hidden dimension."
   ]
  },
  {
   "cell_type": "markdown",
   "metadata": {
    "id": "8USYuOuNU6Z0"
   },
   "source": [
    "Mathematically, the model's forward function at layer $k\\in[1,L]$ and timestep $t\\in[1,S]$ can be described as\n",
    "\n",
    "$$\n",
    "\\begin{align}\n",
    "\\vec{z_t}^{[k]} &= \\sigma\\left(\\vec{x}^{[k]}_t {\\mattr{W}_{\\mathrm{xz}}}^{[k]} +\n",
    "    \\vec{h}_{t-1}^{[k]} {\\mattr{W}_{\\mathrm{hz}}}^{[k]} + \\vec{b}_{\\mathrm{z}}^{[k]}\\right) \\\\\n",
    "\\vec{r_t}^{[k]} &= \\sigma\\left(\\vec{x}^{[k]}_t {\\mattr{W}_{\\mathrm{xr}}}^{[k]} +\n",
    "    \\vec{h}_{t-1}^{[k]} {\\mattr{W}_{\\mathrm{hr}}}^{[k]} + \\vec{b}_{\\mathrm{r}}^{[k]}\\right) \\\\\n",
    "\\vec{g_t}^{[k]} &= \\tanh\\left(\\vec{x}^{[k]}_t {\\mattr{W}_{\\mathrm{xg}}}^{[k]} +\n",
    "    (\\vec{r_t}^{[k]}\\odot\\vec{h}_{t-1}^{[k]}) {\\mattr{W}_{\\mathrm{hg}}}^{[k]} + \\vec{b}_{\\mathrm{g}}^{[k]}\\right) \\\\\n",
    "\\vec{h_t}^{[k]} &= \\vec{z}^{[k]}_t \\odot \\vec{h}^{[k]}_{t-1} + \\left(1-\\vec{z}^{[k]}_t\\right)\\odot \\vec{g_t}^{[k]}\n",
    "\\end{align}\n",
    "$$"
   ]
  },
  {
   "cell_type": "markdown",
   "metadata": {
    "id": "mnTq1cLSU6Z0"
   },
   "source": [
    "The input to each layer is,\n",
    "$$\n",
    "\\mat{X}^{[k]} =\n",
    "\\begin{bmatrix}\n",
    "    {\\vec{x}_1}^{[k]} \\\\ \\vdots \\\\ {\\vec{x}_S}^{[k]}\n",
    "\\end{bmatrix}\n",
    "=\n",
    "\\begin{cases}\n",
    "    \\mat{X} & \\mathrm{if} ~k = 1~ \\\\\n",
    "    \\mathrm{dropout}_p \\left(\n",
    "    \\begin{bmatrix}\n",
    "        {\\vec{h}_1}^{[k-1]} \\\\ \\vdots \\\\ {\\vec{h}_S}^{[k-1]}\n",
    "    \\end{bmatrix} \\right) & \\mathrm{if} ~1 < k \\leq L+1~\n",
    "\\end{cases}.\n",
    "$$"
   ]
  },
  {
   "cell_type": "markdown",
   "metadata": {
    "id": "IPqQRWtjU6Z1"
   },
   "source": [
    "The output of the entire model is then,\n",
    "$$\n",
    "\\mat{Y} = \\mat{X}^{[L+1]} {\\mattr{W}_{\\mathrm{hy}}} + \\mat{B}_{\\mathrm{y}}\n",
    "$$"
   ]
  },
  {
   "cell_type": "markdown",
   "metadata": {
    "id": "gEnB2qMNU6Z1"
   },
   "source": [
    "and the final hidden state is\n",
    "$$\n",
    "\\mat{H} =\n",
    "\\begin{bmatrix}\n",
    "    {\\vec{h}_S}^{[1]} \\\\ \\vdots \\\\ {\\vec{h}_S}^{[L]}\n",
    "\\end{bmatrix}.\n",
    "$$"
   ]
  },
  {
   "cell_type": "markdown",
   "metadata": {
    "id": "lhoiAqb0U6Z1"
   },
   "source": [
    "Notes:\n",
    "- $t\\in[1,S]$ is the timestep, i.e. the current position within the sequence of each sample.\n",
    "- $\\vec{x}_t^{[k]}$ is the input of layer $k$ at timestep $t$, respectively.\n",
    "- The outputs of the **last layer** $\\vec{y}_t^{[L]}$, are the predicted next characters for every input char.\n",
    "  These are similar to class scores in classification tasks.\n",
    "- The hidden states at the **last timestep**, $\\vec{h}_S^{[k]}$, are the final hidden state returned from the model.\n",
    "- $\\sigma(\\cdot)$ is the sigmoid function, i.e. $\\sigma(\\vec{z}) = 1/(1+e^{-\\vec{z}})$ which returns values in $(0,1)$.\n",
    "- $\\tanh(\\cdot)$ is the hyperbolic tangent, i.e. $\\tanh(\\vec{z}) = (e^{2\\vec{z}}-1)/(e^{2\\vec{z}}+1)$ which returns values in $(-1,1)$.\n",
    "- $\\vec{h_t}^{[k]}$ is the hidden state of layer $k$ at time $t$. This can be thought of as the memory of that layer.\n",
    "- $\\vec{g_t}^{[k]}$ is the candidate hidden state for time $t+1$.\n",
    "- $\\vec{z_t}^{[k]}$ is known as the update gate. It combines the previous state with the input to determine how much the current state will be combined with the new candidate state. For example, if $\\vec{z_t}^{[k]}=\\vec{1}$ then the current input has no effect on the output.\n",
    "- $\\vec{r_t}^{[k]}$ is known as the reset gate. It combines the previous state with the input to determine how much of the previous state will affect the current state candidate. For example if $\\vec{r_t}^{[k]}=\\vec{0}$ the previous state has no effect on the current candidate state."
   ]
  },
  {
   "cell_type": "markdown",
   "metadata": {
    "id": "hPLxpQD4U6Z1"
   },
   "source": [
    "Here's a graphical representation of the GRU's forward pass at each timestep. The $\\vec{\\tilde{h}}$ in the image is our $\\vec{g}$ (candidate next state).\n",
    "\n",
    "<img src=\"imgs/gru_cell.png\" width=\"400\"/>\n",
    "\n",
    "You can see how the reset and update gates allow the model to completely ignore it's previous state, completely ignore it's input, or any mixture of those states (since the gates are actually continuous and between $(0,1)$)."
   ]
  },
  {
   "cell_type": "markdown",
   "metadata": {
    "id": "8bv06wrKU6Z1"
   },
   "source": [
    "Here's a graphical representation of the entire model.\n",
    "You can ignore the $c_t^{[k]}$ (cell state) variables (which are relevant for LSTM models).\n",
    "Our model has only the hidden state, $h_t^{[k]}$. Also notice that we added dropout between layers (i.e., on the up arrows).\n",
    "\n",
    "<img src=\"imgs/lstm_model.png\" />\n",
    "\n",
    "The purple tensors are inputs (a sequence and initial hidden state per layer), and the green tensors are outputs (another sequence and final hidden state per layer). Each blue block implements the above forward equations.\n",
    "Blocks that are on the same vertical level are at the same layer, and therefore share parameters."
   ]
  },
  {
   "cell_type": "markdown",
   "metadata": {
    "id": "W2in5CmcU6Z1"
   },
   "source": [
    "**TODO**: Implement the `MultilayerGRU` class in the `hw3/charnn.py` module.\n",
    "\n",
    "Notes:\n",
    "- You'll need to handle input **batches** now.\n",
    "  The math is identical to the above, but all the tensors will have an extra batch\n",
    "  dimension as their first dimension.\n",
    "- Use the diagram above to help guide your implementation.\n",
    "  It will help you visualize what shapes to returns where, etc.\n"
   ]
  },
  {
   "cell_type": "code",
   "execution_count": 18,
   "metadata": {
    "ExecuteTime": {
     "end_time": "2023-07-13T12:04:15.089333Z",
     "start_time": "2023-07-13T12:04:13.359786Z"
    },
    "colab": {
     "base_uri": "https://localhost:8080/"
    },
    "id": "8RXyaYkAU6Z3",
    "executionInfo": {
     "status": "ok",
     "timestamp": 1689253367553,
     "user_tz": -180,
     "elapsed": 3775,
     "user": {
      "displayName": "Alexander Gorelik",
      "userId": "06754552765501381377"
     }
    },
    "outputId": "c1c6d2e4-983c-47f0-ae58-c1ef6d95c456"
   },
   "outputs": [
    {
     "output_type": "stream",
     "name": "stdout",
     "text": [
      "MultilayerGRU(\n",
      "  (z_x_0): Linear(in_features=78, out_features=256, bias=False)\n",
      "  (z_h_0): Linear(in_features=256, out_features=256, bias=True)\n",
      "  (r_x_0): Linear(in_features=78, out_features=256, bias=False)\n",
      "  (r_h_0): Linear(in_features=256, out_features=256, bias=True)\n",
      "  (g_x_0): Linear(in_features=78, out_features=256, bias=False)\n",
      "  (g_h_0): Linear(in_features=256, out_features=256, bias=True)\n",
      "  (z_x_1): Linear(in_features=256, out_features=256, bias=False)\n",
      "  (z_h_1): Linear(in_features=256, out_features=256, bias=True)\n",
      "  (r_x_1): Linear(in_features=256, out_features=256, bias=False)\n",
      "  (r_h_1): Linear(in_features=256, out_features=256, bias=True)\n",
      "  (g_x_1): Linear(in_features=256, out_features=256, bias=False)\n",
      "  (g_h_1): Linear(in_features=256, out_features=256, bias=True)\n",
      "  (z_x_2): Linear(in_features=256, out_features=256, bias=False)\n",
      "  (z_h_2): Linear(in_features=256, out_features=256, bias=True)\n",
      "  (r_x_2): Linear(in_features=256, out_features=256, bias=False)\n",
      "  (r_h_2): Linear(in_features=256, out_features=256, bias=True)\n",
      "  (g_x_2): Linear(in_features=256, out_features=256, bias=False)\n",
      "  (g_h_2): Linear(in_features=256, out_features=256, bias=True)\n",
      "  (dropout): Dropout(p=0, inplace=False)\n",
      "  (out_layer): Linear(in_features=256, out_features=78, bias=True)\n",
      ")\n",
      "y.shape=torch.Size([32, 64, 78])\n",
      "h.shape=torch.Size([32, 3, 256])\n"
     ]
    }
   ],
   "source": [
    "in_dim = vocab_len\n",
    "h_dim = 256\n",
    "n_layers = 3\n",
    "model = charnn.MultilayerGRU(in_dim, h_dim, out_dim=in_dim, n_layers=n_layers)\n",
    "model = model.to(device)\n",
    "print(model)\n",
    "\n",
    "# Test forward pass\n",
    "y, h = model(x0.to(dtype=torch.float, device=device))\n",
    "print(f'y.shape={y.shape}')\n",
    "print(f'h.shape={h.shape}')\n",
    "\n",
    "test.assertEqual(y.shape, (batch_size, seq_len, vocab_len))\n",
    "test.assertEqual(h.shape, (batch_size, n_layers, h_dim))\n",
    "test.assertEqual(len(list(model.parameters())), 9 * n_layers + 2)"
   ]
  },
  {
   "cell_type": "markdown",
   "metadata": {
    "id": "tjrB2FWTU6Z4"
   },
   "source": [
    "### Generating text by sampling\n",
    "<a id=part1_6></a>"
   ]
  },
  {
   "cell_type": "markdown",
   "metadata": {
    "id": "NHGXHc_GU6Z4"
   },
   "source": [
    "Now that we have a model, we can implement **text generation** based on it.\n",
    "The idea is simple:\n",
    "At each timestep our model receives one char $x_t$ from the input sequence and outputs scores $y_t$\n",
    "for what the next char should be.\n",
    "We'll convert these scores into a probability over each of the possible chars.\n",
    "In other words, for each input char $x_t$ we create a probability distribution for the next char\n",
    "conditioned on the current one and the state of the model (representing all previous inputs):\n",
    "$$p(x_{t+1}|x_t, \\vec{h}_t).$$\n",
    "\n",
    "Once we have such a distribution, we'll sample a char from it.\n",
    "This will be the first char of our generated sequence.\n",
    "Now we can feed this new char into the model, create another distribution, sample the next char and so on.\n",
    "Note that it's crucial to propagate the hidden state when sampling."
   ]
  },
  {
   "cell_type": "markdown",
   "metadata": {
    "id": "cNzbuWxAU6Z5"
   },
   "source": [
    "The important point however is how to create the distribution from the scores.\n",
    "One way, as we saw in previous ML tasks, is to use the softmax function.\n",
    "However, a drawback of softmax is that it can generate very diffuse (more uniform) distributions if the score values are very similar. When sampling, we would prefer to control the distributions and make them less uniform to increase the chance of sampling the char(s) with the highest scores compared to the others.\n",
    "\n",
    "To control the variance of the distribution, a common trick is to add a hyperparameter $T$, known as the\n",
    "*temperature* to the softmax function. The class scores are simply scaled by $T$ before softmax is applied:\n",
    "$$\n",
    "\\mathrm{softmax}_T(\\vec{y}) = \\frac{e^{\\vec{y}/T}}{\\sum_k e^{y_k/T}}\n",
    "$$\n",
    "\n",
    "A low $T$ will result in less uniform distributions and vice-versa."
   ]
  },
  {
   "cell_type": "markdown",
   "metadata": {
    "id": "b6ceziFeU6Z5"
   },
   "source": [
    "**TODO**: Implement the `hot_softmax()` function in the `hw3/charnn.py` module."
   ]
  },
  {
   "cell_type": "code",
   "execution_count": 19,
   "metadata": {
    "ExecuteTime": {
     "end_time": "2023-07-13T12:05:35.521108Z",
     "start_time": "2023-07-13T12:05:34.726185Z"
    },
    "colab": {
     "base_uri": "https://localhost:8080/",
     "height": 473
    },
    "id": "9eV0BkltU6Z5",
    "executionInfo": {
     "status": "ok",
     "timestamp": 1689253374473,
     "user_tz": -180,
     "elapsed": 1291,
     "user": {
      "displayName": "Alexander Gorelik",
      "userId": "06754552765501381377"
     }
    },
    "outputId": "219ed6bb-ce87-45a7-b0d3-54813775de44"
   },
   "outputs": [
    {
     "output_type": "display_data",
     "data": {
      "text/plain": [
       "<Figure size 1500x500 with 1 Axes>"
      ],
      "image/png": "[encoded data removed]"
     },
     "metadata": {}
    }
   ],
   "source": [
    "scores = y[0,0,:].detach()\n",
    "_, ax = plt.subplots(figsize=(15,5))\n",
    "\n",
    "for t in reversed([0.3, 0.5, 1.0, 100]):\n",
    "    ax.plot(charnn.hot_softmax(scores, temperature=t).cpu().numpy(), label=f'T={t}')\n",
    "ax.set_xlabel('$x_{t+1}$')\n",
    "ax.set_ylabel('$p(x_{t+1}|x_t)$')\n",
    "ax.legend()\n",
    "\n",
    "uniform_proba = 1/len(char_to_idx)\n",
    "uniform_diff = torch.abs(charnn.hot_softmax(scores, temperature=100) - uniform_proba)\n",
    "test.assertTrue(torch.all(uniform_diff < 1e-4))"
   ]
  },
  {
   "cell_type": "markdown",
   "metadata": {
    "id": "5trLu9NxU6Z6"
   },
   "source": [
    "**TODO**: Implement the `generate_from_model()` function in the `hw3/charnn.py` module."
   ]
  },
  {
   "cell_type": "code",
   "execution_count": 20,
   "metadata": {
    "ExecuteTime": {
     "end_time": "2023-07-13T12:07:51.316171Z",
     "start_time": "2023-07-13T12:07:50.625166Z"
    },
    "colab": {
     "base_uri": "https://localhost:8080/"
    },
    "id": "W-AR9s4DU6Z6",
    "executionInfo": {
     "status": "ok",
     "timestamp": 1689253379849,
     "user_tz": -180,
     "elapsed": 267,
     "user": {
      "displayName": "Alexander Gorelik",
      "userId": "06754552765501381377"
     }
    },
    "outputId": "3e079166-3ca5-4c43-bb07-a74a3c1f68e1"
   },
   "outputs": [
    {
     "output_type": "stream",
     "name": "stdout",
     "text": [
      "foobarZl!(!\n",
      "9B t,\n",
      "d6'9lJwMPTawHFAfuxBsMvx9wwo],:wC\n",
      "foobar.7WVVR;'Gy]?h5(YjNWPHI1:3J4mwOIrqEpRJwq&s1\"P\n",
      "foobar1' jQM]q .fMOxikvq3Q5? ]1;vgfCoFsYa&\n",
      "O,kDRpO\n"
     ]
    }
   ],
   "source": [
    "for _ in range(3):\n",
    "    text = charnn.generate_from_model(model, \"foobar\", 50, (char_to_idx, idx_to_char), T=0.5)\n",
    "    print(text)\n",
    "    test.assertEqual(len(text), 50)"
   ]
  },
  {
   "cell_type": "markdown",
   "metadata": {
    "id": "F_xtDUH-U6Z6"
   },
   "source": [
    "### Training\n",
    "<a id=part1_7></a>"
   ]
  },
  {
   "cell_type": "markdown",
   "metadata": {
    "id": "5_LMuAg9U6Z7"
   },
   "source": [
    "To train this model, we'll calculate the loss at each time step by comparing the predicted char to\n",
    "the actual char from our label. We can use cross entropy since per char it's similar to a classification problem.\n",
    "We'll then sum the losses over the sequence and back-propagate the gradients though time.\n",
    "Notice that the back-propagation algorithm will \"visit\" each layer's parameter tensors multiple times,\n",
    "so we'll accumulate gradients in parameters of the blocks. Luckily `autograd` will handle this part for us."
   ]
  },
  {
   "cell_type": "markdown",
   "metadata": {
    "id": "TxXjh_tbU6Z7"
   },
   "source": [
    "As usual, the first step of training will be to try and **overfit** a large model (many parameters) to a tiny dataset.\n",
    "Again, this is to ensure the model and training code are implemented correctly, i.e. that the model can learn.\n",
    "\n",
    "For a generative model such as this, overfitting is slightly trickier than for classification.\n",
    "What we'll aim to do is to get our model to **memorize** a specific sequence of chars, so that when given the first\n",
    "char in the sequence it will immediately spit out the rest of the sequence verbatim.\n",
    "\n",
    "Let's create a tiny dataset to memorize."
   ]
  },
  {
   "cell_type": "code",
   "execution_count": 21,
   "metadata": {
    "ExecuteTime": {
     "end_time": "2023-07-13T12:09:42.147883Z",
     "start_time": "2023-07-13T12:09:42.003423Z"
    },
    "colab": {
     "base_uri": "https://localhost:8080/"
    },
    "id": "WGL1j67LU6Z7",
    "executionInfo": {
     "status": "ok",
     "timestamp": 1689253386190,
     "user_tz": -180,
     "elapsed": 262,
     "user": {
      "displayName": "Alexander Gorelik",
      "userId": "06754552765501381377"
     }
    },
    "outputId": "29097b63-d396-4645-f73c-20cf7ec49c99"
   },
   "outputs": [
    {
     "output_type": "stream",
     "name": "stdout",
     "text": [
      "Text to \"memorize\":\n",
      "\n",
      "TRAM. What would you have?\n",
      "  HELENA. Something; and scarce so much; nothing, indeed.\n",
      "    I would not tell you what I would, my lord.\n",
      "    Faith, yes:\n",
      "    Strangers and foes do sunder and not kiss.\n",
      "  BERTRAM. I pray you, stay not, but in haste to horse.\n",
      "  HE\n"
     ]
    }
   ],
   "source": [
    "# Pick a tiny subset of the dataset\n",
    "subset_start, subset_end = 1001, 1005\n",
    "ds_corpus_ss = torch.utils.data.Subset(ds_corpus, range(subset_start, subset_end))\n",
    "batch_size_ss = 1\n",
    "sampler_ss = SequenceBatchSampler(ds_corpus_ss, batch_size=batch_size_ss)\n",
    "dl_corpus_ss = torch.utils.data.DataLoader(ds_corpus_ss, batch_size_ss, sampler=sampler_ss, shuffle=False)\n",
    "\n",
    "# Convert subset to text\n",
    "subset_text = ''\n",
    "for i in range(subset_end - subset_start):\n",
    "    subset_text += unembed(ds_corpus_ss[i][0])\n",
    "print(f'Text to \"memorize\":\\n\\n{subset_text}')"
   ]
  },
  {
   "cell_type": "markdown",
   "metadata": {
    "id": "jxRh6-WnU6Z7"
   },
   "source": [
    "Now let's implement the first part of our training code.\n",
    "\n",
    "**TODO**: Implement the `train_epoch()` and `train_batch()` methods of the `RNNTrainer` class in the `hw3/training.py` module.\n",
    "You must think about how to correctly handle the hidden state of the model between batches and epochs for this specific task (i.e. text generation)."
   ]
  },
  {
   "cell_type": "code",
   "execution_count": 22,
   "metadata": {
    "ExecuteTime": {
     "end_time": "2023-07-13T12:22:27.783104Z",
     "start_time": "2023-07-13T12:22:22.121276Z"
    },
    "colab": {
     "base_uri": "https://localhost:8080/"
    },
    "id": "_QW__XlzU6Z8",
    "executionInfo": {
     "status": "ok",
     "timestamp": 1689253408816,
     "user_tz": -180,
     "elapsed": 15774,
     "user": {
      "displayName": "Alexander Gorelik",
      "userId": "06754552765501381377"
     }
    },
    "outputId": "69dcf6d2-a80a-4656-ede9-c60877faff6b"
   },
   "outputs": [
    {
     "output_type": "stream",
     "name": "stdout",
     "text": [
      "\n",
      "Epoch #1: Avg. loss = 267.461, Accuracy = 16.41%\n",
      "Twooo oooooooooooooooooooooooooooooooooo ooooooooonooooooooooooooooooooooooooooo oooooooooooooooooooooo oooooo ooooooooooooooooooooooooooooooooooooo ooooooooooooo ooooooooooooooooooooooooooooooooooooo oooooooooooo oooooooooooooooooooooooooooooooooooooooooo\n",
      "\n",
      "Epoch #25: Avg. loss = 0.623, Accuracy = 100.00%\n",
      "TRAM. What would you have?\n",
      "  HELENA. Something; and scarce so much; nothing, indeed.\n",
      "    I would not tell you what I would, my lord.\n",
      "    Faith, yes:\n",
      "    Strangers and foes do sunder and not kiss.\n",
      "  BERTRAM. I pray you, stay not, but in haste to horse.\n",
      "  HE\n"
     ]
    }
   ],
   "source": [
    "import torch.nn as nn\n",
    "import torch.optim as optim\n",
    "from hw3.training import RNNTrainer\n",
    "\n",
    "torch.manual_seed(42)\n",
    "\n",
    "lr = 0.01\n",
    "num_epochs = 500\n",
    "\n",
    "in_dim = vocab_len\n",
    "h_dim = 128\n",
    "n_layers = 2\n",
    "loss_fn = nn.CrossEntropyLoss()\n",
    "model = charnn.MultilayerGRU(in_dim, h_dim, out_dim=in_dim, n_layers=n_layers).to(device)\n",
    "optimizer = optim.Adam(model.parameters(), lr=lr)\n",
    "trainer = RNNTrainer(model, loss_fn, optimizer, device)\n",
    "\n",
    "for epoch in range(num_epochs):\n",
    "    epoch_result = trainer.train_epoch(dl_corpus_ss, verbose=False)\n",
    "\n",
    "    # Every X epochs, we'll generate a sequence starting from the first char in the first sequence\n",
    "    # to visualize how/if/what the model is learning.\n",
    "    if epoch == 0 or (epoch+1) % 25 == 0:\n",
    "        avg_loss = np.mean(epoch_result.losses)\n",
    "        accuracy = np.mean(epoch_result.accuracy)\n",
    "        print(f'\\nEpoch #{epoch+1}: Avg. loss = {avg_loss:.3f}, Accuracy = {accuracy:.2f}%')\n",
    "\n",
    "        generated_sequence = charnn.generate_from_model(model, subset_text[0],\n",
    "                                                        seq_len*(subset_end-subset_start),\n",
    "                                                        (char_to_idx,idx_to_char), T=0.1)\n",
    "\n",
    "        # Stop if we've successfully memorized the small dataset.\n",
    "        print(generated_sequence)\n",
    "        if generated_sequence == subset_text:\n",
    "            break\n",
    "\n",
    "# Test successful overfitting\n",
    "test.assertGreater(epoch_result.accuracy, 99)\n",
    "test.assertEqual(generated_sequence, subset_text)"
   ]
  },
  {
   "cell_type": "markdown",
   "metadata": {
    "id": "QjQTpjCMU6Z8"
   },
   "source": [
    "OK, so training works - we can memorize a short sequence.\n",
    "We'll now train a much larger model on our large dataset. You'll need a GPU for this part.\n",
    "\n",
    "First, lets set up our dataset and models for training.\n",
    "We'll split our corpus into 90% train and 10% test-set.\n",
    "Also, we'll use a learning-rate scheduler to control the learning rate during training."
   ]
  },
  {
   "cell_type": "markdown",
   "metadata": {
    "id": "5Ewc5M8pU6Z8"
   },
   "source": [
    "**TODO**: Set the hyperparameters in the `part1_rnn_hyperparams()` function of the `hw3/answers.py` module."
   ]
  },
  {
   "cell_type": "code",
   "execution_count": 23,
   "metadata": {
    "ExecuteTime": {
     "end_time": "2023-07-13T12:26:01.929159Z",
     "start_time": "2023-07-13T12:25:45.798138Z"
    },
    "colab": {
     "base_uri": "https://localhost:8080/"
    },
    "id": "J0STsIbuU6Z8",
    "executionInfo": {
     "status": "ok",
     "timestamp": 1689253459296,
     "user_tz": -180,
     "elapsed": 39390,
     "user": {
      "displayName": "Alexander Gorelik",
      "userId": "06754552765501381377"
     }
    },
    "outputId": "6d288179-57b7-40ae-d3fa-843448492223"
   },
   "outputs": [
    {
     "output_type": "stream",
     "name": "stdout",
     "text": [
      "hyperparams:\n",
      " {'batch_size': 150, 'seq_len': 64, 'h_dim': 256, 'n_layers': 3, 'dropout': 0.2, 'learn_rate': 0.001, 'lr_sched_factor': 0.3, 'lr_sched_patience': 3}\n",
      "Train: 595 batches, 5712000 chars\n",
      "Test:   66 batches,  633600 chars\n"
     ]
    }
   ],
   "source": [
    "from hw3.answers import part1_rnn_hyperparams\n",
    "\n",
    "hp = part1_rnn_hyperparams()\n",
    "print('hyperparams:\\n', hp)\n",
    "\n",
    "### Dataset definition\n",
    "vocab_len = len(char_to_idx)\n",
    "batch_size = hp['batch_size']\n",
    "seq_len = hp['seq_len']\n",
    "train_test_ratio = 0.9\n",
    "num_samples = (len(corpus) - 1) // seq_len\n",
    "num_train = int(train_test_ratio * num_samples)\n",
    "\n",
    "samples, labels = charnn.chars_to_labelled_samples(corpus, char_to_idx, seq_len, device)\n",
    "\n",
    "ds_train = torch.utils.data.TensorDataset(samples[:num_train], labels[:num_train])\n",
    "sampler_train = SequenceBatchSampler(ds_train, batch_size)\n",
    "dl_train = torch.utils.data.DataLoader(ds_train, batch_size, shuffle=False, sampler=sampler_train, drop_last=True)\n",
    "\n",
    "ds_test = torch.utils.data.TensorDataset(samples[num_train:], labels[num_train:])\n",
    "sampler_test = SequenceBatchSampler(ds_test, batch_size)\n",
    "dl_test = torch.utils.data.DataLoader(ds_test, batch_size, shuffle=False, sampler=sampler_test, drop_last=True)\n",
    "\n",
    "print(f'Train: {len(dl_train):3d} batches, {len(dl_train)*batch_size*seq_len:7d} chars')\n",
    "print(f'Test:  {len(dl_test):3d} batches, {len(dl_test)*batch_size*seq_len:7d} chars')\n",
    "\n",
    "### Training definition\n",
    "in_dim = out_dim = vocab_len\n",
    "checkpoint_file = 'checkpoints/rnn'\n",
    "num_epochs = 50\n",
    "early_stopping = 5\n",
    "\n",
    "model = charnn.MultilayerGRU(in_dim, hp['h_dim'], out_dim, hp['n_layers'], hp['dropout'])\n",
    "loss_fn = nn.CrossEntropyLoss()\n",
    "optimizer = optim.Adam(model.parameters(), lr=hp['learn_rate'])\n",
    "scheduler = optim.lr_scheduler.ReduceLROnPlateau(\n",
    "    optimizer, mode='max', factor=hp['lr_sched_factor'], patience=hp['lr_sched_patience'], verbose=True\n",
    ")\n",
    "trainer = RNNTrainer(model, loss_fn, optimizer, device)"
   ]
  },
  {
   "cell_type": "markdown",
   "metadata": {
    "id": "LDnEFTNCU6Z8"
   },
   "source": [
    "The code blocks below will train the model and save checkpoints containing the training state and the best model parameters to a file. This allows you to stop training and resume it later from where you left.\n",
    "\n",
    "Note that you can use the `main.py` script provided within the assignment folder to run this notebook from the command line as if it were a python script by using the `run-nb` subcommand. This allows you to train your model using this notebook without starting jupyter. You can combine this with `srun` or `sbatch` to run the notebook with a GPU on the course servers."
   ]
  },
  {
   "cell_type": "markdown",
   "metadata": {
    "id": "zOx_KnpSU6Z8"
   },
   "source": [
    "**TODO**:\n",
    "- Implement the `fit()` method of the `Trainer` class. You can reuse the relevant implementation parts from HW2, but make sure to implement early stopping and checkpoints.\n",
    "- Implement the `test_epoch()` and `test_batch()` methods of the `RNNTrainer` class in the `hw3/training.py` module.\n",
    "- Run the following block to train.\n",
    "- When training is done and you're satisfied with the model's outputs, rename the checkpoint file to `checkpoints/rnn_final.pt`.\n",
    "  This will cause the block to skip training and instead load your saved model when running the homework submission script.\n",
    "  Note that your submission zip file will not include the checkpoint file. This is OK."
   ]
  },
  {
   "cell_type": "code",
   "execution_count": 24,
   "metadata": {
    "is_executing": true,
    "ExecuteTime": {
     "start_time": "2023-07-13T12:35:02.154014Z"
    },
    "colab": {
     "base_uri": "https://localhost:8080/",
     "height": 1000
    },
    "id": "bQXgtzUJU6Z8",
    "executionInfo": {
     "status": "ok",
     "timestamp": 1689260896387,
     "user_tz": -180,
     "elapsed": 7423476,
     "user": {
      "displayName": "Alexander Gorelik",
      "userId": "06754552765501381377"
     }
    },
    "outputId": "d3e1455e-0145-48f7-a13d-3521b48791c1"
   },
   "outputs": [
    {
     "output_type": "stream",
     "name": "stdout",
     "text": [
      "ACT I.G6'h35kxuwognpN.P[r&\"V,q;GWSA;DVQg&oJuRE!yXP9Cqzxf8Kywi7s8L4X9-PTxxN:[fc.VjQe&oeV,\n",
      ".MiJAz;vK4s\n",
      "--- EPOCH 1/50 ---\n",
      "train_batch (Avg. Loss 130.045, Accuracy 43.0): 100%|██████████| 595/595 [02:24<00:00,  4.12it/s]\n",
      "test_batch (Avg. Loss 1.745, Accuracy 48.0): 100%|██████████| 66/66 [00:05<00:00, 11.53it/s]\n",
      "*** Saved checkpoint checkpoints/rnn.pt at epoch 1\n",
      "ACT I. Dear me a string,\n",
      "    Mather and my hand, my lord; which with mine and sparans\n",
      "    The time a\n",
      "--- EPOCH 2/50 ---\n",
      "train_batch (Avg. Loss 99.870, Accuracy 53.8): 100%|██████████| 595/595 [02:25<00:00,  4.09it/s]\n",
      "test_batch (Avg. Loss 1.548, Accuracy 53.5): 100%|██████████| 66/66 [00:04<00:00, 13.40it/s]\n",
      "*** Saved checkpoint checkpoints/rnn.pt at epoch 2\n",
      "ACT I.\n",
      "  CLOWN. There is no more with your one, by my fair hands,\n",
      "    With the field, and more that \n",
      "--- EPOCH 3/50 ---\n",
      "train_batch (Avg. Loss 92.284, Accuracy 56.9): 100%|██████████| 595/595 [02:25<00:00,  4.09it/s]\n",
      "test_batch (Avg. Loss 1.463, Accuracy 55.9): 100%|██████████| 66/66 [00:04<00:00, 13.79it/s]\n",
      "*** Saved checkpoint checkpoints/rnn.pt at epoch 3\n",
      "ACT I. Enter LEONTES, and SERVINANS, the DUKE OF YORK, with my and bring\n",
      "  That I say not a proper s\n",
      "--- EPOCH 4/50 ---\n",
      "train_batch (Avg. Loss 88.386, Accuracy 58.5): 100%|██████████| 595/595 [02:25<00:00,  4.09it/s]\n",
      "test_batch (Avg. Loss 1.415, Accuracy 57.1): 100%|██████████| 66/66 [00:05<00:00, 12.32it/s]\n",
      "*** Saved checkpoint checkpoints/rnn.pt at epoch 4\n",
      "ACT I. Stay, and when they speak\n",
      "                                                                   \n",
      "--- EPOCH 5/50 ---\n",
      "train_batch (Avg. Loss 85.953, Accuracy 59.5): 100%|██████████| 595/595 [02:23<00:00,  4.13it/s]\n",
      "test_batch (Avg. Loss 1.387, Accuracy 57.8): 100%|██████████| 66/66 [00:05<00:00, 11.21it/s]\n",
      "*** Saved checkpoint checkpoints/rnn.pt at epoch 5\n",
      "ACT I. More than they come,\n",
      "Serving can be stand and speak with you.\n",
      "\n",
      "KING RICHARD II:\n",
      "The best of t\n",
      "--- EPOCH 6/50 ---\n",
      "train_batch (Avg. Loss 84.260, Accuracy 60.2): 100%|██████████| 595/595 [02:25<00:00,  4.09it/s]\n",
      "test_batch (Avg. Loss 1.364, Accuracy 58.4): 100%|██████████| 66/66 [00:04<00:00, 13.71it/s]\n",
      "*** Saved checkpoint checkpoints/rnn.pt at epoch 6\n",
      "ACT I. You are to think\n",
      "     What do you see the business and signior\n",
      "     That the good office upon\n",
      "--- EPOCH 7/50 ---\n",
      "train_batch (Avg. Loss 82.984, Accuracy 60.7): 100%|██████████| 595/595 [02:24<00:00,  4.13it/s]\n",
      "test_batch (Avg. Loss 1.348, Accuracy 58.8): 100%|██████████| 66/66 [00:04<00:00, 13.92it/s]\n",
      "*** Saved checkpoint checkpoints/rnn.pt at epoch 7\n",
      "ACT I.\n",
      "ANTIPHOLUS OF EPHESUS. O, then, thou hast shall make me such a man of the day.\n",
      "\n",
      "DUKE OF YORK:\n",
      "--- EPOCH 8/50 ---\n",
      "train_batch (Avg. Loss 81.982, Accuracy 61.1): 100%|██████████| 595/595 [02:24<00:00,  4.12it/s]\n",
      "test_batch (Avg. Loss 1.335, Accuracy 59.1): 100%|██████████| 66/66 [00:04<00:00, 14.08it/s]\n",
      "*** Saved checkpoint checkpoints/rnn.pt at epoch 8\n",
      "ACT I. She will not send the\n",
      "      That I should not be discover'd to your thoughts.\n",
      "               \n",
      "--- EPOCH 9/50 ---\n",
      "train_batch (Avg. Loss 81.184, Accuracy 61.3): 100%|██████████| 595/595 [02:24<00:00,  4.11it/s]\n",
      "test_batch (Avg. Loss 1.326, Accuracy 59.3): 100%|██████████| 66/66 [00:05<00:00, 12.35it/s]\n",
      "*** Saved checkpoint checkpoints/rnn.pt at epoch 9\n",
      "ACT I. Speak with them on the son.\n",
      "  King. What shall I do this man to hear the common scars?\n",
      "  Ham.\n",
      "--- EPOCH 10/50 ---\n",
      "train_batch (Avg. Loss 80.509, Accuracy 61.6): 100%|██████████| 595/595 [02:24<00:00,  4.12it/s]\n",
      "test_batch (Avg. Loss 1.318, Accuracy 59.6): 100%|██████████| 66/66 [00:05<00:00, 11.37it/s]\n",
      "*** Saved checkpoint checkpoints/rnn.pt at epoch 10\n",
      "ACT I. Sir John Falstaff,\n",
      "  Despair the part of Duke of Claudio, and there\n",
      "  Than the street and all\n",
      "--- EPOCH 11/50 ---\n",
      "train_batch (Avg. Loss 79.902, Accuracy 61.9): 100%|██████████| 595/595 [02:24<00:00,  4.12it/s]\n",
      "test_batch (Avg. Loss 1.311, Accuracy 59.7): 100%|██████████| 66/66 [00:05<00:00, 12.61it/s]\n",
      "*** Saved checkpoint checkpoints/rnn.pt at epoch 11\n",
      "ACT I. And that you have seen\n",
      "  And yet of that you may have been so boy,\n",
      "  And therefore like the g\n",
      "--- EPOCH 12/50 ---\n",
      "train_batch (Avg. Loss 79.424, Accuracy 62.0): 100%|██████████| 595/595 [02:24<00:00,  4.11it/s]\n",
      "test_batch (Avg. Loss 1.305, Accuracy 59.9): 100%|██████████| 66/66 [00:04<00:00, 13.85it/s]\n",
      "*** Saved checkpoint checkpoints/rnn.pt at epoch 12\n",
      "ACT I. SCENE I.\n",
      "The constant people and the time of Rome.\n",
      "\n",
      "Enter the Christian with his part of Engl\n",
      "--- EPOCH 13/50 ---\n",
      "train_batch (Avg. Loss 78.920, Accuracy 62.2): 100%|██████████| 595/595 [02:25<00:00,  4.10it/s]\n",
      "test_batch (Avg. Loss 1.299, Accuracy 60.1): 100%|██████████| 66/66 [00:04<00:00, 13.96it/s]\n",
      "*** Saved checkpoint checkpoints/rnn.pt at epoch 13\n",
      "ACT I. Scene I be fair a day?\n",
      "ANTIPHOLUS OF EPHESUS. Where is the lady that do shortly be so?\n",
      "DROMIO\n",
      "--- EPOCH 14/50 ---\n",
      "train_batch (Avg. Loss 78.545, Accuracy 62.4): 100%|██████████| 595/595 [02:25<00:00,  4.10it/s]\n",
      "test_batch (Avg. Loss 1.292, Accuracy 60.3): 100%|██████████| 66/66 [00:05<00:00, 11.87it/s]\n",
      "*** Saved checkpoint checkpoints/rnn.pt at epoch 14\n",
      "ACT I.  \n",
      "  Laer. And then, the gods do with him to the King.\n",
      "    I have no more than my wife and thi\n",
      "--- EPOCH 15/50 ---\n",
      "train_batch (Avg. Loss 78.159, Accuracy 62.5): 100%|██████████| 595/595 [02:23<00:00,  4.15it/s]\n",
      "test_batch (Avg. Loss 1.289, Accuracy 60.4): 100%|██████████| 66/66 [00:05<00:00, 11.56it/s]\n",
      "*** Saved checkpoint checkpoints/rnn.pt at epoch 15\n",
      "ACT I. SCENE I.\n",
      "  Methought that they could not have the contrary and blood\n",
      "  In fair works for this\n",
      "--- EPOCH 16/50 ---\n",
      "train_batch (Avg. Loss 77.833, Accuracy 62.7): 100%|██████████| 595/595 [02:23<00:00,  4.15it/s]\n",
      "test_batch (Avg. Loss 1.286, Accuracy 60.4): 100%|██████████| 66/66 [00:05<00:00, 12.21it/s]\n",
      "*** Saved checkpoint checkpoints/rnn.pt at epoch 16\n",
      "ACT I.\n",
      "  Laeraes, of Thomas Cassio, and Benedick\n",
      "  ALL SOLDIER, ANTONY, and THERSITES\n",
      "\n",
      "  MESSENGER. \n",
      "--- EPOCH 17/50 ---\n",
      "train_batch (Avg. Loss 77.502, Accuracy 62.8): 100%|██████████| 595/595 [02:23<00:00,  4.15it/s]\n",
      "test_batch (Avg. Loss 1.282, Accuracy 60.6): 100%|██████████| 66/66 [00:04<00:00, 13.46it/s]\n",
      "*** Saved checkpoint checkpoints/rnn.pt at epoch 17\n",
      "ACT I. SCENE I.\n",
      "The QUEEN MARGARET, trumpets the trumpets\n",
      "\n",
      "  CAESAR. What counsel is the strength of\n",
      "--- EPOCH 18/50 ---\n",
      "train_batch (Avg. Loss 77.181, Accuracy 62.9): 100%|██████████| 595/595 [02:25<00:00,  4.10it/s]\n",
      "test_batch (Avg. Loss 1.277, Accuracy 60.7): 100%|██████████| 66/66 [00:04<00:00, 13.83it/s]\n",
      "*** Saved checkpoint checkpoints/rnn.pt at epoch 18\n",
      "ACT I.  A thank to hear some name\n",
      "                                                                  \n",
      "--- EPOCH 19/50 ---\n",
      "train_batch (Avg. Loss 76.959, Accuracy 63.0): 100%|██████████| 595/595 [02:25<00:00,  4.10it/s]\n",
      "test_batch (Avg. Loss 1.275, Accuracy 60.7): 100%|██████████| 66/66 [00:04<00:00, 13.35it/s]\n",
      "*** Saved checkpoint checkpoints/rnn.pt at epoch 19\n",
      "ACT I.\n",
      "  Benedick and married the son of Gloucester.\n",
      "                                               \n",
      "--- EPOCH 20/50 ---\n",
      "train_batch (Avg. Loss 76.693, Accuracy 63.1): 100%|██████████| 595/595 [02:24<00:00,  4.11it/s]\n",
      "test_batch (Avg. Loss 1.272, Accuracy 60.8): 100%|██████████| 66/66 [00:05<00:00, 11.24it/s]\n",
      "*** Saved checkpoint checkpoints/rnn.pt at epoch 20\n",
      "ACT I.\n",
      "  Marcus Charles, sir, and so that you are all as the news.\n",
      "  Kent. Why, my lord, I am a stor\n",
      "--- EPOCH 21/50 ---\n",
      "train_batch (Avg. Loss 76.459, Accuracy 63.2): 100%|██████████| 595/595 [02:23<00:00,  4.16it/s]\n",
      "test_batch (Avg. Loss 1.267, Accuracy 61.0): 100%|██████████| 66/66 [00:05<00:00, 11.45it/s]\n",
      "*** Saved checkpoint checkpoints/rnn.pt at epoch 21\n",
      "ACT I. PAROLLES SENATORS\n",
      "\n",
      "  LEONTES. Your high loves shall be so to the tribunes\n",
      "    That you have s\n",
      "--- EPOCH 22/50 ---\n",
      "train_batch (Avg. Loss 76.257, Accuracy 63.3): 100%|██████████| 595/595 [02:23<00:00,  4.15it/s]\n",
      "test_batch (Avg. Loss 1.264, Accuracy 61.0): 100%|██████████| 66/66 [00:05<00:00, 12.66it/s]\n",
      "*** Saved checkpoint checkpoints/rnn.pt at epoch 22\n",
      "ACT I.\n",
      "  And this the property of the which they say.\n",
      "  Lear. An if this passion see the princes\n",
      "  L\n",
      "--- EPOCH 23/50 ---\n",
      "train_batch (Avg. Loss 76.058, Accuracy 63.4): 100%|██████████| 595/595 [02:23<00:00,  4.13it/s]\n",
      "test_batch (Avg. Loss 1.262, Accuracy 61.0): 100%|██████████| 66/66 [00:04<00:00, 13.92it/s]\n",
      "ACT I.\n",
      "    Great Caesar, and Constable of Alexandria,\n",
      "    With the market worthiest great discovery.\n",
      "--- EPOCH 24/50 ---\n",
      "train_batch (Avg. Loss 75.860, Accuracy 63.4): 100%|██████████| 595/595 [02:23<00:00,  4.14it/s]\n",
      "test_batch (Avg. Loss 1.261, Accuracy 61.1): 100%|██████████| 66/66 [00:04<00:00, 14.06it/s]\n",
      "*** Saved checkpoint checkpoints/rnn.pt at epoch 24\n",
      "ACT I. Sir Thomas Salisbury\n",
      "  SIMPLE. What say you? What shall I say the save your part?\n",
      "  SIR TOBY.\n",
      "--- EPOCH 25/50 ---\n",
      "train_batch (Avg. Loss 75.679, Accuracy 63.5): 100%|██████████| 595/595 [02:23<00:00,  4.15it/s]\n",
      "test_batch (Avg. Loss 1.259, Accuracy 61.1): 100%|██████████| 66/66 [00:04<00:00, 14.16it/s]\n",
      "*** Saved checkpoint checkpoints/rnn.pt at epoch 25\n",
      "ACT I. SCENE I.\n",
      "  I think they have no ways and honour.\n",
      "  Lear, the gods have made me any man that k\n",
      "--- EPOCH 26/50 ---\n",
      "train_batch (Avg. Loss 75.539, Accuracy 63.5): 100%|██████████| 595/595 [02:23<00:00,  4.15it/s]\n",
      "test_batch (Avg. Loss 1.255, Accuracy 61.3): 100%|██████████| 66/66 [00:04<00:00, 13.59it/s]\n",
      "*** Saved checkpoint checkpoints/rnn.pt at epoch 26\n",
      "ACT I.\n",
      "A MESSENGER and TALBOT, and GEORGE,\n",
      "A TROILUS, and MARIA and ARVIRAGUS\n",
      "\n",
      "  GENTLEMAN. The King\n",
      "--- EPOCH 27/50 ---\n",
      "train_batch (Avg. Loss 75.346, Accuracy 63.6): 100%|██████████| 595/595 [02:22<00:00,  4.18it/s]\n",
      "test_batch (Avg. Loss 1.253, Accuracy 61.2): 100%|██████████| 66/66 [00:05<00:00, 13.07it/s]\n",
      "ACT I. With thee the noble time\n",
      "  An honour is a man in the content.\n",
      "  The wind and time is an excel\n",
      "--- EPOCH 28/50 ---\n",
      "train_batch (Avg. Loss 75.200, Accuracy 63.7): 100%|██████████| 595/595 [02:21<00:00,  4.21it/s]\n",
      "test_batch (Avg. Loss 1.251, Accuracy 61.3): 100%|██████████| 66/66 [00:04<00:00, 13.32it/s]\n",
      "*** Saved checkpoint checkpoints/rnn.pt at epoch 28\n",
      "ACT I. SCENE I.\n",
      "  Well should the part of the continent\n",
      "  A proportion of the state of them may go t\n",
      "--- EPOCH 29/50 ---\n",
      "train_batch (Avg. Loss 75.059, Accuracy 63.7): 100%|██████████| 595/595 [02:22<00:00,  4.19it/s]\n",
      "test_batch (Avg. Loss 1.249, Accuracy 61.4): 100%|██████████| 66/66 [00:04<00:00, 13.48it/s]\n",
      "*** Saved checkpoint checkpoints/rnn.pt at epoch 29\n",
      "ACT I.\n",
      "\n",
      "  Servingman.  [Aside]  If thou didst swear a boy and\n",
      "    such things, and bowels between th\n",
      "--- EPOCH 30/50 ---\n",
      "train_batch (Avg. Loss 74.923, Accuracy 63.8): 100%|██████████| 595/595 [02:22<00:00,  4.17it/s]\n",
      "test_batch (Avg. Loss 1.249, Accuracy 61.4): 100%|██████████| 66/66 [00:05<00:00, 12.45it/s]\n",
      "ACT I.\n",
      "  Charles the Poor of the or play of thee.\n",
      "                                                  \n",
      "--- EPOCH 31/50 ---\n",
      "train_batch (Avg. Loss 74.793, Accuracy 63.8): 100%|██████████| 595/595 [02:22<00:00,  4.17it/s]\n",
      "test_batch (Avg. Loss 1.247, Accuracy 61.5): 100%|██████████| 66/66 [00:05<00:00, 12.25it/s]\n",
      "*** Saved checkpoint checkpoints/rnn.pt at epoch 31\n",
      "ACT I.\n",
      "  We shall be stronger than the dead seal to thee.\n",
      "  Bene, for thy life, like the boar of all\n",
      "--- EPOCH 32/50 ---\n",
      "train_batch (Avg. Loss 74.664, Accuracy 63.9): 100%|██████████| 595/595 [02:22<00:00,  4.16it/s]\n",
      "test_batch (Avg. Loss 1.245, Accuracy 61.5): 100%|██████████| 66/66 [00:05<00:00, 11.24it/s]\n",
      "ACT I. SCENE I.\n",
      "\n",
      "London. Then thou dost see thee seen to do thee garden.\n",
      "\n",
      "Enter Antony and Cassio.\n",
      "\n",
      "\n",
      "--- EPOCH 33/50 ---\n",
      "train_batch (Avg. Loss 74.541, Accuracy 63.9): 100%|██████████| 595/595 [02:20<00:00,  4.23it/s]\n",
      "test_batch (Avg. Loss 1.246, Accuracy 61.5): 100%|██████████| 66/66 [00:05<00:00, 11.56it/s]\n",
      "ACT I.\n",
      "ANTIPHOLUS OF EPHESUS and CAIUS his PETER\n",
      "\n",
      "Enter BUCKINGHAM, LORDS, and SIR TOBY\n",
      "\n",
      "  ANTONIO. \n",
      "--- EPOCH 34/50 ---\n",
      "train_batch (Avg. Loss 74.450, Accuracy 64.0): 100%|██████████| 595/595 [02:20<00:00,  4.25it/s]\n",
      "test_batch (Avg. Loss 1.243, Accuracy 61.6): 100%|██████████| 66/66 [00:05<00:00, 12.53it/s]\n",
      "*** Saved checkpoint checkpoints/rnn.pt at epoch 34\n",
      "ACT I.\n",
      "AGAMEMNON and WARWICK, SIR TOBY, and ANTONIO\n",
      "\n",
      "  GRUMIO. Where is the more than this discourse\n",
      "--- EPOCH 35/50 ---\n",
      "train_batch (Avg. Loss 74.332, Accuracy 64.0): 100%|██████████| 595/595 [02:20<00:00,  4.23it/s]\n",
      "test_batch (Avg. Loss 1.241, Accuracy 61.6): 100%|██████████| 66/66 [00:04<00:00, 13.63it/s]\n",
      "*** Saved checkpoint checkpoints/rnn.pt at epoch 35\n",
      "ACT I.\n",
      "  And with the curse of Parrow the Duke of York.\n",
      "  Therefore they say it was a brother of the\n",
      "--- EPOCH 36/50 ---\n",
      "train_batch (Avg. Loss 74.206, Accuracy 64.1): 100%|██████████| 595/595 [02:21<00:00,  4.22it/s]\n",
      "test_batch (Avg. Loss 1.240, Accuracy 61.6): 100%|██████████| 66/66 [00:04<00:00, 14.15it/s]\n",
      "ACT I.\n",
      "  Mark Antony, the Duke of Olympus.\n",
      "  Benedick and Romeo and the princes of the low,\n",
      "  When t\n",
      "--- EPOCH 37/50 ---\n",
      "train_batch (Avg. Loss 74.117, Accuracy 64.1): 100%|██████████| 595/595 [02:20<00:00,  4.22it/s]\n",
      "test_batch (Avg. Loss 1.239, Accuracy 61.6): 100%|██████████| 66/66 [00:04<00:00, 14.28it/s]\n",
      "ACT I.\n",
      "  And so a hope is fit to the prince and make\n",
      "  My lady that you should be with the court.\n",
      "  \n",
      "--- EPOCH 38/50 ---\n",
      "train_batch (Avg. Loss 74.026, Accuracy 64.2): 100%|██████████| 595/595 [02:21<00:00,  4.21it/s]\n",
      "test_batch (Avg. Loss 1.237, Accuracy 61.7): 100%|██████████| 66/66 [00:04<00:00, 13.91it/s]\n",
      "*** Saved checkpoint checkpoints/rnn.pt at epoch 38\n",
      "ACT I.\n",
      "  Hear me, sir, it is a company and death.\n",
      "  Gentleman, and the Juliet he hath been\n",
      "    That \n",
      "--- EPOCH 39/50 ---\n",
      "train_batch (Avg. Loss 73.936, Accuracy 64.2): 100%|██████████| 595/595 [02:25<00:00,  4.09it/s]\n",
      "test_batch (Avg. Loss 1.238, Accuracy 61.7): 100%|██████████| 66/66 [00:04<00:00, 13.60it/s]\n",
      "*** Saved checkpoint checkpoints/rnn.pt at epoch 39\n",
      "ACT I.\n",
      "DROMIO OF SYRACUSE and PAGE and SERVANT\n",
      "\n",
      "  A Saint Gloucester and Secorn and Gloucester.\n",
      "  He\n",
      "--- EPOCH 40/50 ---\n",
      "train_batch (Avg. Loss 73.825, Accuracy 64.2): 100%|██████████| 595/595 [02:21<00:00,  4.21it/s]\n",
      "test_batch (Avg. Loss 1.234, Accuracy 61.7): 100%|██████████| 66/66 [00:04<00:00, 14.34it/s]\n",
      "ACT I.\n",
      "SCENE II.\n",
      "Rome. The state of England\n",
      "\n",
      "Enter the LORDS, BRANDON, and SIR TOBY\n",
      "\n",
      "  CAESAR. What,\n",
      "--- EPOCH 41/50 ---\n",
      "train_batch (Avg. Loss 73.741, Accuracy 64.3): 100%|██████████| 595/595 [02:22<00:00,  4.19it/s]\n",
      "test_batch (Avg. Loss 1.236, Accuracy 61.7): 100%|██████████| 66/66 [00:04<00:00, 14.11it/s]\n",
      "ACT I.\n",
      "  The people will be so much oppos'd in the King.\n",
      "  Before the speech of this in heaven and m\n",
      "--- EPOCH 42/50 ---\n",
      "train_batch (Avg. Loss 73.662, Accuracy 64.3): 100%|██████████| 595/595 [02:26<00:00,  4.07it/s]\n",
      "test_batch (Avg. Loss 1.232, Accuracy 61.9): 100%|██████████| 66/66 [00:05<00:00, 11.40it/s]\n",
      "*** Saved checkpoint checkpoints/rnn.pt at epoch 42\n",
      "ACT I.\n",
      "  This temperance of the great of Brutus and Thersites\n",
      "  The trumpet hours of Greekish death \n",
      "--- EPOCH 43/50 ---\n",
      "train_batch (Avg. Loss 73.572, Accuracy 64.3): 100%|██████████| 595/595 [02:21<00:00,  4.20it/s]\n",
      "test_batch (Avg. Loss 1.233, Accuracy 61.9): 100%|██████████| 66/66 [00:05<00:00, 11.40it/s]\n",
      "ACT I.\n",
      "  Anglonius.\n",
      "  Lear.                                                                    Exeun\n",
      "--- EPOCH 44/50 ---\n",
      "train_batch (Avg. Loss 73.507, Accuracy 64.4): 100%|██████████| 595/595 [02:20<00:00,  4.25it/s]\n",
      "test_batch (Avg. Loss 1.231, Accuracy 61.9): 100%|██████████| 66/66 [00:05<00:00, 11.67it/s]\n",
      "*** Saved checkpoint checkpoints/rnn.pt at epoch 44\n",
      "ACT I.\n",
      "SCENE II.\n",
      "Before Balthasar.\n",
      "\n",
      "Enter Polonius. An I must die in his part of my soul of a tale\n",
      " \n",
      "--- EPOCH 45/50 ---\n",
      "train_batch (Avg. Loss 73.422, Accuracy 64.4): 100%|██████████| 595/595 [02:19<00:00,  4.26it/s]\n",
      "test_batch (Avg. Loss 1.231, Accuracy 61.9): 100%|██████████| 66/66 [00:05<00:00, 12.49it/s]\n",
      "ACT I.\n",
      "SCENE II.\n",
      "A street\n",
      "\n",
      "Enter MARCUS and BASTARD\n",
      "\n",
      "  GREMIO. Let him see the currant and the city \n",
      "--- EPOCH 46/50 ---\n",
      "train_batch (Avg. Loss 73.341, Accuracy 64.4): 100%|██████████| 595/595 [02:20<00:00,  4.23it/s]\n",
      "test_batch (Avg. Loss 1.232, Accuracy 61.9): 100%|██████████| 66/66 [00:04<00:00, 14.11it/s]\n",
      "ACT I.\n",
      "  The King of Percy there at hand hath brought\n",
      "    A true and humour up to see a court\n",
      "    Th\n",
      "--- EPOCH 47/50 ---\n",
      "train_batch (Avg. Loss 73.269, Accuracy 64.5): 100%|██████████| 595/595 [02:21<00:00,  4.21it/s]\n",
      "test_batch (Avg. Loss 1.230, Accuracy 61.9): 100%|██████████| 66/66 [00:04<00:00, 14.15it/s]\n",
      "ACT I. SCENE I.\n",
      "  An if I do with him be from my eyes.\n",
      "\n",
      "  CORIOLANUS. What, if he see the care to me\n",
      "--- EPOCH 48/50 ---\n",
      "train_batch (Avg. Loss 73.205, Accuracy 64.5): 100%|██████████| 595/595 [02:21<00:00,  4.20it/s]\n",
      "test_batch (Avg. Loss 1.229, Accuracy 61.9): 100%|██████████| 66/66 [00:04<00:00, 14.40it/s]\n",
      "*** Saved checkpoint checkpoints/rnn.pt at epoch 48\n",
      "ACT I.\n",
      "\n",
      "ACT III. SCENE 1.\n",
      "\n",
      "London. The palace\n",
      "\n",
      "Enter SIR TOBY, and TAMORA, and SIMPCOX\n",
      "\n",
      "  BOYET. I w\n",
      "--- EPOCH 49/50 ---\n",
      "train_batch (Avg. Loss 73.124, Accuracy 64.5): 100%|██████████| 595/595 [02:21<00:00,  4.21it/s]\n",
      "test_batch (Avg. Loss 1.229, Accuracy 61.9): 100%|██████████| 66/66 [00:04<00:00, 14.02it/s]\n",
      "*** Saved checkpoint checkpoints/rnn.pt at epoch 49\n",
      "ACT I.\n",
      "  Hero, Prince of Marcus, and Brutus and Lord Hastings.\n",
      "    All this is a dead body of the go\n",
      "--- EPOCH 50/50 ---\n",
      "train_batch (Avg. Loss 73.051, Accuracy 64.5): 100%|██████████| 595/595 [02:21<00:00,  4.22it/s]\n",
      "test_batch (Avg. Loss 1.228, Accuracy 61.9): 100%|██████████| 66/66 [00:04<00:00, 13.96it/s]\n",
      "ACT I. SCENE I.\n",
      "The Capitol. The princely SENATORS's house\n",
      "\n",
      "Enter BANQUO and BOY\n",
      "\n",
      "  GLOUCESTER. What\n"
     ]
    },
    {
     "output_type": "display_data",
     "data": {
      "text/plain": [
       "<Figure size 1600x1000 with 4 Axes>"
      ],
      "image/png": "[encoded data removed]"
     },
     "metadata": {}
    }
   ],
   "source": [
    "from cs236781.plot import plot_fit\n",
    "\n",
    "def post_epoch_fn(epoch, train_res, test_res, verbose):\n",
    "    # Update learning rate\n",
    "    scheduler.step(test_res.accuracy)\n",
    "    # Sample from model to show progress\n",
    "    if verbose:\n",
    "        start_seq = \"ACT I.\"\n",
    "        generated_sequence = charnn.generate_from_model(\n",
    "            model, start_seq, 100, (char_to_idx,idx_to_char), T=0.5\n",
    "        )\n",
    "        print(generated_sequence)\n",
    "\n",
    "# Train, unless final checkpoint is found\n",
    "checkpoint_file_final = f'{checkpoint_file}_final.pt'\n",
    "if os.path.isfile(checkpoint_file_final):\n",
    "    print(f'*** Loading final checkpoint file {checkpoint_file_final} instead of training')\n",
    "    saved_state = torch.load(checkpoint_file_final, map_location=device)\n",
    "    model.load_state_dict(saved_state['model_state'])\n",
    "else:\n",
    "    try:\n",
    "        # Print pre-training sampling\n",
    "        print(charnn.generate_from_model(model, \"ACT I.\", 100, (char_to_idx,idx_to_char), T=0.5))\n",
    "\n",
    "        fit_res = trainer.fit(dl_train, dl_test, num_epochs, max_batches=None,\n",
    "                              post_epoch_fn=post_epoch_fn, early_stopping=early_stopping,\n",
    "                              checkpoints=checkpoint_file, print_every=1)\n",
    "\n",
    "        fig, axes = plot_fit(fit_res)\n",
    "    except KeyboardInterrupt as e:\n",
    "        print('\\n *** Training interrupted by user')"
   ]
  },
  {
   "cell_type": "markdown",
   "metadata": {
    "id": "bWozsVtQU6Z8"
   },
   "source": [
    "### Generating a work of art\n",
    "<a id=part1_8></a>"
   ]
  },
  {
   "cell_type": "markdown",
   "metadata": {
    "id": "6s4ulafvU6Z8"
   },
   "source": [
    "Armed with our fully trained model, let's generate the next Hamlet! You should experiment with modifying the sampling temperature and see what happens.\n",
    "\n",
    "The text you generate should “look” like a Shakespeare play:\n",
    "old-style English words and sentence structure, directions for the actors\n",
    "(like “Exit/Enter”), sections (Act I/Scene III) etc.\n",
    "There will be no coherent plot of course, but it should at least seem like\n",
    "a Shakespearean play when not looking too closely.\n",
    "If this is not what you see, go back, debug and/or and re-train.\n",
    "\n",
    "**TODO**: Specify the generation parameters in the `part1_generation_params()` function within the `hw3/answers.py` module."
   ]
  },
  {
   "cell_type": "code",
   "execution_count": 32,
   "metadata": {
    "colab": {
     "base_uri": "https://localhost:8080/"
    },
    "id": "CyD9C55RU6Z9",
    "executionInfo": {
     "status": "ok",
     "timestamp": 1689261025155,
     "user_tz": -180,
     "elapsed": 15934,
     "user": {
      "displayName": "Alexander Gorelik",
      "userId": "06754552765501381377"
     }
    },
    "outputId": "27e7cdc6-9e69-43be-9875-306f51cd492c"
   },
   "outputs": [
    {
     "output_type": "stream",
     "name": "stdout",
     "text": [
      "ACT III. SCENE I. The King and Servant.\n",
      "\n",
      "Enter Lord Sir John France, and Cassio.\n",
      "\n",
      "  CASSIO. I have not so much better than you are a son.\n",
      "    I am a son of your desires to see your hands.\n",
      "    The sea of this discourse of the world is the man\n",
      "    That hath a son of his army that he shall be so.\n",
      "    I have not seen the court of this and soul\n",
      "    That shall be so much son of this and soul\n",
      "    That have been set on the common sorrow.\n",
      "    The sun that shall be so despis'd to see\n",
      "    The strength of the proportion of the state\n",
      "    That shall be so despis'd. The sea of this discourse\n",
      "    That hath a stranger bear the court of thee,\n",
      "    That shall be so much strange than the sun that should be\n",
      "    That he is so despis'd to be a such a brain\n",
      "    Than the sun of the sun that hath the streets\n",
      "    That shall be so despair. The sea of England\n",
      "    Hath seen the court of his and bounding soul\n",
      "    That he shall be a subject of the state\n",
      "    That should be so despair. The sea of England\n",
      "    Hath seen the court of heaven, and the sun seems\n",
      "    To the contrary of the streets of them.\n",
      "    The sea of this despite of the world should be so.\n",
      "    The prophet of the princely state of this,\n",
      "    The sun that shall be so despair to see,\n",
      "    That she is so much son of his heart that should be\n",
      "    That he is as the sea of the world's son\n",
      "    That hath a sea of the sea of the sea,\n",
      "    That they shall see the strength of the prophet\n",
      "    That shall be so despair. The sea of England\n",
      "    Hath so so much as they are bound to thee.\n",
      "    The sea of this discourse of the conscience\n",
      "    That shall be set a little stranger than the streets\n",
      "    That he shall be a worthy princely friend.\n",
      "    The sea of the sea of the time of thee,\n",
      "    The sea of the sea of the sun that seems\n",
      "    The strangers of the state of his approach,\n",
      "    That she shall be a such a stranger of the world,\n",
      "    And they are so that hath been sent to him.\n",
      "    The sun that shall be so much son of this.\n",
      "    The sea of this discovery of the brother\n",
      "    Will be a subject of the state of heaven,\n",
      "    And the sun that hath so sorrow the sea,\n",
      "    And they are so much sorrow to the sea,\n",
      "    And the sun shall be so despair to see,\n",
      "    And the sun shall be so despair to see,\n",
      "    And they are so much that he shall be so.\n",
      "    The sea of the best that I shall be so,\n",
      "    That thou art so soon as thou dost not see,\n",
      "    Thou shalt be so much son of this desire\n",
      "    That thou shalt be a sorrow of thy soul,\n",
      "    And they are so much than thy father's son.\n",
      "    Thou shalt not see thee straight to thee and see,\n",
      "    That thou shalt see thee straight to this desert.\n",
      "    Thou shalt be so despis'd, and thou shalt see thee\n",
      "    That thou shalt see thy life and thy desire.\n",
      "    Thou shalt not see thee to thy father's head.\n",
      "    Thou shalt be so much son of this as thought\n",
      "    That thou shalt see thee straight to see thy soul\n",
      "    That thou hast seen the sea of thy desires.\n",
      "    Thou shalt not see thee to the sea of this,\n",
      "    That thou shalt see thee to the sea of thine.\n",
      "    Thou shalt not see thee to thy father's head.\n",
      "    Thou shalt not see thee so that thou dost speak.\n",
      "    Thou shalt be so much son of this approach.\n",
      "    The sea of this discovery of the sea,\n",
      "    The sea of the sea of the sea of England\n",
      "    That shall be so despis'd the state of this,\n",
      "    That he is so despair, and they are sense,\n",
      "    And they are so much son of the prophet\n",
      "    That they shall see the consul of the sea,\n",
      "    And the sun that hath struck the state of thee.\n",
      "    The princes of the seas of thine own life\n",
      "    That hath a stranger bear the world of thee,\n",
      "    And they are so much son of the world's son,\n",
      "    That they are so much that he shall be so.\n",
      "    The sea of this discovery of the sea\n",
      "    That should be so despair, and they are sounded,\n",
      "    And the proportion of the world is so.\n",
      "    The sea of this desire that he shall see\n",
      "    The sea of the way of the streets of thee,\n",
      "    And the sun that hath seen the court of heaven,\n",
      "    And the sun shall be so far off the court,\n",
      "    And they have seen the court of all the state\n",
      "    That hath the strong and soul of the sea of the sea,\n",
      "    And the sun shall be so desperate to thee.\n",
      "    The sea of the sea of the court of France\n",
      "    That hath the shame of the world between them,\n",
      "    And the proportion of the state of this,\n",
      "    The brother of the base of the state of them,\n",
      "    The sun that shall be so despair to see,\n",
      "    And the sun shall be so defended them.\n",
      "    The sea of the conscience of the time  \n",
      "    When they shall see the common strength of heaven,\n",
      "    The sun that shall be seen to be a subject.\n",
      "    The sea of this discovery of the sea,\n",
      "    The state of the sun that hath seen the state\n",
      "    That hath a stranger straight and straight of heaven,\n",
      "    That shall be so despair to see the court.\n",
      "    The sea of the sea of the best of them\n",
      "    That he is strange and soldiers of the sea,\n",
      "    The sea of the prophet of the streets of them,\n",
      "    The truth of heaven, and the sun of the sea,\n",
      "    The strong of the world is the strength of him,\n",
      "    And the sun shall be so much stronger than\n",
      "    That the sun shall be so despair. The seas of France\n",
      "    Who shall be so despis'd to see the state\n",
      "    That hath a stranger bear the court of heaven,\n",
      "    And the discovery of the sea of them\n",
      "    That she is so much stronger than the sea,\n",
      "    That they shall see the court of the sea of the King,\n",
      "    And the sun shall be so desperate to thee.\n",
      "    The sea of this desire of the world should be so,\n",
      "    That he is so sorrow to be so sorrow\n",
      "    That they shall see the court of his best love,\n",
      "    And they are so much brought to thee and hear\n",
      "    The sun that shall be so despair. The seas of thine\n",
      "    Which they shall see the state of his approach.\n",
      "    The sea of this discourse of the common sea\n",
      "    That hath a man of the world and the sea\n",
      "    That have the sea of the conscience of the sea,\n",
      "    And the sun that hath seen the court of heaven,\n",
      "    And the sun shall be so despair to see,\n",
      "    That he is so soon as the sun of them,\n",
      "    The first of the sun that hath seen the state\n",
      "    That hath a stranger broke and seek the state\n",
      "    Of the sun that hath straight to him. The sea\n",
      "    Which they shall be a worthy shore of heaven,\n",
      "    That she is so so much as they are sounded,\n",
      "    And the sun shall be so despis'd.\n",
      "  CAESAR. What say you?\n",
      "  CASSIO.                                                                                                                                                                                                                                                                                                                                                                                                                                                                                                                                                                                                                                                                                                                                                                                                                                                                                                                                                                                                                                                                                                                                                                                                                                                                                                                                                                                                                                                                                                                                                                                                                                                                                                                                                                                                                                                                                                                                                                                                                                                                                                                                                                                                                                                                                                                                                                                                                                                                                                                                                                                                                                                                                                                                                                                                                                                                                                                                                                                                                                                                                                                                                                                                                                                                                                                                                                                                                                                                                                                                                                                                                                                                                                                                                                                                                   \n"
     ]
    }
   ],
   "source": [
    "from hw3.answers import part1_generation_params\n",
    "\n",
    "start_seq, temperature = part1_generation_params()\n",
    "\n",
    "generated_sequence = charnn.generate_from_model(\n",
    "    model, start_seq, 10000, (char_to_idx,idx_to_char), T=temperature\n",
    ")\n",
    "\n",
    "print(generated_sequence)"
   ]
  },
  {
   "cell_type": "markdown",
   "metadata": {
    "id": "-rvmHkH0U6Z9"
   },
   "source": [
    "## Questions\n",
    "<a id=part1_9></a>"
   ]
  },
  {
   "cell_type": "markdown",
   "metadata": {
    "id": "SGSZRFUQU6Z9"
   },
   "source": [
    "**TODO** Answer the following questions. Write your answers in the appropriate variables in the module `hw3/answers.py`."
   ]
  },
  {
   "cell_type": "code",
   "execution_count": 2,
   "metadata": {
    "id": "ILHfT0cuU6Z9",
    "executionInfo": {
     "status": "ok",
     "timestamp": 1689260943830,
     "user_tz": -180,
     "elapsed": 909,
     "user": {
      "displayName": "Alexander Gorelik",
      "userId": "06754552765501381377"
     }
    },
    "ExecuteTime": {
     "end_time": "2023-07-26T14:56:43.129025Z",
     "start_time": "2023-07-26T14:56:43.119204Z"
    }
   },
   "outputs": [],
   "source": [
    "from cs236781.answers import display_answer\n",
    "import hw3.answers"
   ]
  },
  {
   "cell_type": "markdown",
   "metadata": {
    "id": "FZ47W_39U6Z9"
   },
   "source": [
    "### Question 1\n",
    "Why do we split the corpus into sequences instead of training on the whole text?"
   ]
  },
  {
   "cell_type": "code",
   "execution_count": 3,
   "metadata": {
    "colab": {
     "base_uri": "https://localhost:8080/",
     "height": 182
    },
    "id": "YVyVodn-U6Z9",
    "executionInfo": {
     "status": "ok",
     "timestamp": 1689260976441,
     "user_tz": -180,
     "elapsed": 757,
     "user": {
      "displayName": "Alexander Gorelik",
      "userId": "06754552765501381377"
     }
    },
    "outputId": "3a0f27c2-6be1-4aae-fb73-64fb73fb5502",
    "ExecuteTime": {
     "end_time": "2023-07-26T14:56:50.413990Z",
     "start_time": "2023-07-26T14:56:50.407315Z"
    }
   },
   "outputs": [
    {
     "data": {
      "text/plain": "<IPython.core.display.Markdown object>",
      "text/markdown": "\nWe split the corpus into sequences for training instead of using the entire text for a few important reasons.\nFirstly, it enhances memory and computational efficiency. Training on the entire text simultaneously can be \nmemory-intensive and computationally expensive. Splitting it into smaller sequences allows for more manageable data \nprocessing.\nSecondly, it promotes sequential learning. Language models benefit from predicting the next character or word based on \nthe preceding sequence's context. Splitting the text into sequences enables the model to capture dependencies and \npatterns within shorter contextual windows.\nFurthermore, it helps address the challenge of capturing long-range dependencies. Longer dependencies are difficult to \nlearn directly, but shorter sequences allow the model to focus on learning dependencies within each sequence. The \nrecurrent connections in the model retain information from previous sequences, capturing broader dependencies.\nLastly, splitting into sequences enables the generation of corresponding labels. Shifting the sequence by one character \ncreates labels that train the model to predict the next character in the original text, facilitating effective model \ntraining.\nIn conclusion, splitting the corpus into sequences improves efficiency, captures dependencies, and enables appropriate \nlabel generation for training the model.\n"
     },
     "metadata": {},
     "output_type": "display_data"
    }
   ],
   "source": [
    "display_answer(hw3.answers.part1_q1)"
   ]
  },
  {
   "cell_type": "markdown",
   "metadata": {
    "id": "DQAaqKUXU6Z9"
   },
   "source": [
    "### Question 2\n",
    "How is it possible that the generated text clearly shows memory longer than the sequence length?"
   ]
  },
  {
   "cell_type": "code",
   "execution_count": 29,
   "metadata": {
    "colab": {
     "base_uri": "https://localhost:8080/",
     "height": 97
    },
    "id": "GqlPHnGJU6Z9",
    "executionInfo": {
     "status": "ok",
     "timestamp": 1689260984450,
     "user_tz": -180,
     "elapsed": 314,
     "user": {
      "displayName": "Alexander Gorelik",
      "userId": "06754552765501381377"
     }
    },
    "outputId": "a6e16f13-c5ff-475a-a1ad-d2be00168fdc"
   },
   "outputs": [
    {
     "output_type": "display_data",
     "data": {
      "text/plain": [
       "<IPython.core.display.Markdown object>"
      ],
      "text/markdown": "\nThe length of the output text is influenced by the hidden state size, while the hidden state itself is independent of \nthe input size. This independence can lead to the generated text displaying a memory longer than the sequence length. \nThis phenomenon occurs because the hidden layers, spanning multiple batches, can influence each batch of characters. \nConsequently, we have limited control over the exact length of the generated text due to the complex interplay between \nhidden states and the sequential nature of the model.\n"
     },
     "metadata": {}
    }
   ],
   "source": [
    "display_answer(hw3.answers.part1_q2)"
   ]
  },
  {
   "cell_type": "markdown",
   "metadata": {
    "id": "0zinTQ5ZU6Z9"
   },
   "source": [
    "### Question 3\n",
    "Why are we not shuffling the order of batches when training?"
   ]
  },
  {
   "cell_type": "code",
   "execution_count": 30,
   "metadata": {
    "colab": {
     "base_uri": "https://localhost:8080/",
     "height": 63
    },
    "id": "v0gGGwSTU6Z9",
    "executionInfo": {
     "status": "ok",
     "timestamp": 1689260986575,
     "user_tz": -180,
     "elapsed": 275,
     "user": {
      "displayName": "Alexander Gorelik",
      "userId": "06754552765501381377"
     }
    },
    "outputId": "f5e3fa1c-995a-45a6-a02a-eface8b89b44"
   },
   "outputs": [
    {
     "output_type": "display_data",
     "data": {
      "text/plain": [
       "<IPython.core.display.Markdown object>"
      ],
      "text/markdown": "\nBy maintaining the order of batches during training, we preserve the sequential information present in the corpus. \nThis allows the model to capture and learn from the dependencies and patterns that arise from the natural flow of the \ntext.\n"
     },
     "metadata": {}
    }
   ],
   "source": [
    "display_answer(hw3.answers.part1_q3)"
   ]
  },
  {
   "cell_type": "markdown",
   "metadata": {
    "id": "89m0sKExU6Z9"
   },
   "source": [
    "### Question 4\n",
    "1. Why do we lower the temperature for sampling (compared to the default of $1.0$)?\n",
    "2. What happens when the temperature is very high and why?\n",
    "3. What happens when the temperature is very low and why?"
   ]
  },
  {
   "cell_type": "code",
   "execution_count": 4,
   "metadata": {
    "colab": {
     "base_uri": "https://localhost:8080/",
     "height": 233
    },
    "id": "AMsyQqb9U6Z9",
    "executionInfo": {
     "status": "ok",
     "timestamp": 1689260991210,
     "user_tz": -180,
     "elapsed": 312,
     "user": {
      "displayName": "Alexander Gorelik",
      "userId": "06754552765501381377"
     }
    },
    "outputId": "3a05a843-e51e-40cd-de64-cb8f5110d81d",
    "ExecuteTime": {
     "end_time": "2023-07-26T14:56:56.709431Z",
     "start_time": "2023-07-26T14:56:56.701962Z"
    }
   },
   "outputs": [
    {
     "data": {
      "text/plain": "<IPython.core.display.Markdown object>",
      "text/markdown": "\n**1.** We lower the temperature for sampling in order to allow the softmax function to output more determined decisions \nand reduce the uniformity of the probability distribution. By lowering the temperature, the model's predictions become \nsharper, prioritizing the most likely outcomes based on its learned patterns. This helps the model generate text that \naligns closely with the training data and improves coherence and conservatism in text generation. Additionally, as the \ntemperature decreases over time during training, the model relies less on new data and remembers older information from \nthe text.\n\n**2.** When the temperature is set to a very high value, the distribution output by the softmax becomes closer to \nuniform. This high randomness and lack of determination in the decision-making process can negatively impact the \nlearning process. The model is more likely to switch between different data points frequently, causing it to have \ndifficulty in establishing meaningful connections between different parts of the text. This high temperature can hinder \nthe model's ability to learn coherent patterns and generate text that aligns well with the expected language structures.\n\n**3.** On the other hand, when the temperature is set to a very low value, the distribution output by the softmax \nbecomes more spiky. This means that characters with high probabilities receive even higher scores, while others receive \nlower scores. The low temperature helps the model make more determined decisions during training, as it focuses on the \nmost probable outcomes and reduces randomness. However, this can lead to a limited exploration of the training data and \nmake it challenging to update the model's memory with new information. The model becomes highly reliant on the old text,\npotentially limiting its ability to adapt to new patterns or generate diverse text.\n"
     },
     "metadata": {},
     "output_type": "display_data"
    }
   ],
   "source": [
    "display_answer(hw3.answers.part1_q4)"
   ]
  },
  {
   "cell_type": "code",
   "source": [],
   "metadata": {
    "id": "lqV1KXqZzR6b"
   },
   "execution_count": null,
   "outputs": []
  }
 ],
 "metadata": {
  "kernelspec": {
   "name": "python3",
   "language": "python",
   "display_name": "Python 3 (ipykernel)"
  },
  "language_info": {
   "codemirror_mode": {
    "name": "ipython",
    "version": 3
   },
   "file_extension": ".py",
   "mimetype": "text/x-python",
   "name": "python",
   "nbconvert_exporter": "python",
   "pygments_lexer": "ipython3",
   "version": "3.8.6"
  },
  "colab": {
   "provenance": [],
   "gpuType": "T4"
  },
  "accelerator": "GPU"
 },
 "nbformat": 4,
 "nbformat_minor": 0
}
